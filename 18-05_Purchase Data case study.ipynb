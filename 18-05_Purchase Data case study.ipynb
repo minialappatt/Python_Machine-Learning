{
 "cells": [
  {
   "cell_type": "code",
   "execution_count": 1,
   "id": "eb60c9fc",
   "metadata": {},
   "outputs": [],
   "source": [
    "#importing all the required libraries\n",
    "import numpy as np\n",
    "import pandas as pd\n",
    "import matplotlib.pyplot as plt\n",
    "import seaborn as sns"
   ]
  },
  {
   "cell_type": "code",
   "execution_count": 2,
   "id": "1f6c4163",
   "metadata": {},
   "outputs": [
    {
     "data": {
      "text/html": [
       "<div>\n",
       "<style scoped>\n",
       "    .dataframe tbody tr th:only-of-type {\n",
       "        vertical-align: middle;\n",
       "    }\n",
       "\n",
       "    .dataframe tbody tr th {\n",
       "        vertical-align: top;\n",
       "    }\n",
       "\n",
       "    .dataframe thead th {\n",
       "        text-align: right;\n",
       "    }\n",
       "</style>\n",
       "<table border=\"1\" class=\"dataframe\">\n",
       "  <thead>\n",
       "    <tr style=\"text-align: right;\">\n",
       "      <th></th>\n",
       "      <th>User_ID</th>\n",
       "      <th>Product_ID</th>\n",
       "      <th>Gender</th>\n",
       "      <th>Age</th>\n",
       "      <th>Occupation</th>\n",
       "      <th>City_Category</th>\n",
       "      <th>Stay_In_Current_City_Years</th>\n",
       "      <th>Marital_Status</th>\n",
       "      <th>Product_Category_1</th>\n",
       "      <th>Product_Category_2</th>\n",
       "      <th>Product_Category_3</th>\n",
       "      <th>Purchase</th>\n",
       "    </tr>\n",
       "  </thead>\n",
       "  <tbody>\n",
       "    <tr>\n",
       "      <th>0</th>\n",
       "      <td>1000001</td>\n",
       "      <td>P00069042</td>\n",
       "      <td>F</td>\n",
       "      <td>0-17</td>\n",
       "      <td>10.0</td>\n",
       "      <td>A</td>\n",
       "      <td>2</td>\n",
       "      <td>0.0</td>\n",
       "      <td>3.0</td>\n",
       "      <td>NaN</td>\n",
       "      <td>NaN</td>\n",
       "      <td>8370.0</td>\n",
       "    </tr>\n",
       "    <tr>\n",
       "      <th>1</th>\n",
       "      <td>1000001</td>\n",
       "      <td>P00248942</td>\n",
       "      <td>F</td>\n",
       "      <td>0-17</td>\n",
       "      <td>10.0</td>\n",
       "      <td>A</td>\n",
       "      <td>2</td>\n",
       "      <td>0.0</td>\n",
       "      <td>1.0</td>\n",
       "      <td>6.0</td>\n",
       "      <td>14.0</td>\n",
       "      <td>15200.0</td>\n",
       "    </tr>\n",
       "    <tr>\n",
       "      <th>2</th>\n",
       "      <td>1000001</td>\n",
       "      <td>P00087842</td>\n",
       "      <td>F</td>\n",
       "      <td>0-17</td>\n",
       "      <td>10.0</td>\n",
       "      <td>A</td>\n",
       "      <td>2</td>\n",
       "      <td>0.0</td>\n",
       "      <td>12.0</td>\n",
       "      <td>NaN</td>\n",
       "      <td>NaN</td>\n",
       "      <td>1422.0</td>\n",
       "    </tr>\n",
       "    <tr>\n",
       "      <th>3</th>\n",
       "      <td>1000001</td>\n",
       "      <td>P00085442</td>\n",
       "      <td>F</td>\n",
       "      <td>0-17</td>\n",
       "      <td>10.0</td>\n",
       "      <td>A</td>\n",
       "      <td>2</td>\n",
       "      <td>0.0</td>\n",
       "      <td>12.0</td>\n",
       "      <td>14.0</td>\n",
       "      <td>NaN</td>\n",
       "      <td>1057.0</td>\n",
       "    </tr>\n",
       "    <tr>\n",
       "      <th>4</th>\n",
       "      <td>1000002</td>\n",
       "      <td>P00285442</td>\n",
       "      <td>M</td>\n",
       "      <td>55+</td>\n",
       "      <td>16.0</td>\n",
       "      <td>C</td>\n",
       "      <td>4+</td>\n",
       "      <td>0.0</td>\n",
       "      <td>8.0</td>\n",
       "      <td>NaN</td>\n",
       "      <td>NaN</td>\n",
       "      <td>7969.0</td>\n",
       "    </tr>\n",
       "    <tr>\n",
       "      <th>...</th>\n",
       "      <td>...</td>\n",
       "      <td>...</td>\n",
       "      <td>...</td>\n",
       "      <td>...</td>\n",
       "      <td>...</td>\n",
       "      <td>...</td>\n",
       "      <td>...</td>\n",
       "      <td>...</td>\n",
       "      <td>...</td>\n",
       "      <td>...</td>\n",
       "      <td>...</td>\n",
       "      <td>...</td>\n",
       "    </tr>\n",
       "    <tr>\n",
       "      <th>263010</th>\n",
       "      <td>1004473</td>\n",
       "      <td>P00041942</td>\n",
       "      <td>M</td>\n",
       "      <td>36-45</td>\n",
       "      <td>1.0</td>\n",
       "      <td>B</td>\n",
       "      <td>3</td>\n",
       "      <td>0.0</td>\n",
       "      <td>5.0</td>\n",
       "      <td>18.0</td>\n",
       "      <td>NaN</td>\n",
       "      <td>3722.0</td>\n",
       "    </tr>\n",
       "    <tr>\n",
       "      <th>263011</th>\n",
       "      <td>1004473</td>\n",
       "      <td>P00115142</td>\n",
       "      <td>M</td>\n",
       "      <td>36-45</td>\n",
       "      <td>1.0</td>\n",
       "      <td>B</td>\n",
       "      <td>3</td>\n",
       "      <td>0.0</td>\n",
       "      <td>1.0</td>\n",
       "      <td>8.0</td>\n",
       "      <td>17.0</td>\n",
       "      <td>19253.0</td>\n",
       "    </tr>\n",
       "    <tr>\n",
       "      <th>263012</th>\n",
       "      <td>1004473</td>\n",
       "      <td>P00188442</td>\n",
       "      <td>M</td>\n",
       "      <td>36-45</td>\n",
       "      <td>1.0</td>\n",
       "      <td>B</td>\n",
       "      <td>3</td>\n",
       "      <td>0.0</td>\n",
       "      <td>5.0</td>\n",
       "      <td>7.0</td>\n",
       "      <td>NaN</td>\n",
       "      <td>3608.0</td>\n",
       "    </tr>\n",
       "    <tr>\n",
       "      <th>263013</th>\n",
       "      <td>1004473</td>\n",
       "      <td>P00119442</td>\n",
       "      <td>M</td>\n",
       "      <td>36-45</td>\n",
       "      <td>1.0</td>\n",
       "      <td>B</td>\n",
       "      <td>3</td>\n",
       "      <td>0.0</td>\n",
       "      <td>5.0</td>\n",
       "      <td>NaN</td>\n",
       "      <td>NaN</td>\n",
       "      <td>3604.0</td>\n",
       "    </tr>\n",
       "    <tr>\n",
       "      <th>263014</th>\n",
       "      <td>10</td>\n",
       "      <td>NaN</td>\n",
       "      <td>NaN</td>\n",
       "      <td>NaN</td>\n",
       "      <td>NaN</td>\n",
       "      <td>NaN</td>\n",
       "      <td>NaN</td>\n",
       "      <td>NaN</td>\n",
       "      <td>NaN</td>\n",
       "      <td>NaN</td>\n",
       "      <td>NaN</td>\n",
       "      <td>NaN</td>\n",
       "    </tr>\n",
       "  </tbody>\n",
       "</table>\n",
       "<p>263015 rows × 12 columns</p>\n",
       "</div>"
      ],
      "text/plain": [
       "        User_ID Product_ID Gender    Age  Occupation City_Category  \\\n",
       "0       1000001  P00069042      F   0-17        10.0             A   \n",
       "1       1000001  P00248942      F   0-17        10.0             A   \n",
       "2       1000001  P00087842      F   0-17        10.0             A   \n",
       "3       1000001  P00085442      F   0-17        10.0             A   \n",
       "4       1000002  P00285442      M    55+        16.0             C   \n",
       "...         ...        ...    ...    ...         ...           ...   \n",
       "263010  1004473  P00041942      M  36-45         1.0             B   \n",
       "263011  1004473  P00115142      M  36-45         1.0             B   \n",
       "263012  1004473  P00188442      M  36-45         1.0             B   \n",
       "263013  1004473  P00119442      M  36-45         1.0             B   \n",
       "263014       10        NaN    NaN    NaN         NaN           NaN   \n",
       "\n",
       "       Stay_In_Current_City_Years  Marital_Status  Product_Category_1  \\\n",
       "0                               2             0.0                 3.0   \n",
       "1                               2             0.0                 1.0   \n",
       "2                               2             0.0                12.0   \n",
       "3                               2             0.0                12.0   \n",
       "4                              4+             0.0                 8.0   \n",
       "...                           ...             ...                 ...   \n",
       "263010                          3             0.0                 5.0   \n",
       "263011                          3             0.0                 1.0   \n",
       "263012                          3             0.0                 5.0   \n",
       "263013                          3             0.0                 5.0   \n",
       "263014                        NaN             NaN                 NaN   \n",
       "\n",
       "        Product_Category_2  Product_Category_3  Purchase  \n",
       "0                      NaN                 NaN    8370.0  \n",
       "1                      6.0                14.0   15200.0  \n",
       "2                      NaN                 NaN    1422.0  \n",
       "3                     14.0                 NaN    1057.0  \n",
       "4                      NaN                 NaN    7969.0  \n",
       "...                    ...                 ...       ...  \n",
       "263010                18.0                 NaN    3722.0  \n",
       "263011                 8.0                17.0   19253.0  \n",
       "263012                 7.0                 NaN    3608.0  \n",
       "263013                 NaN                 NaN    3604.0  \n",
       "263014                 NaN                 NaN       NaN  \n",
       "\n",
       "[263015 rows x 12 columns]"
      ]
     },
     "execution_count": 2,
     "metadata": {},
     "output_type": "execute_result"
    }
   ],
   "source": [
    "#Data loading\n",
    "data = pd.read_csv(\"train.csv\")\n",
    "data"
   ]
  },
  {
   "cell_type": "code",
   "execution_count": 3,
   "id": "aae9b25e",
   "metadata": {},
   "outputs": [
    {
     "data": {
      "text/plain": [
       "-17"
      ]
     },
     "execution_count": 3,
     "metadata": {},
     "output_type": "execute_result"
    }
   ],
   "source": [
    "0-17"
   ]
  },
  {
   "cell_type": "code",
   "execution_count": 4,
   "id": "0ea80d6f",
   "metadata": {},
   "outputs": [
    {
     "name": "stdout",
     "output_type": "stream",
     "text": [
      "<class 'pandas.core.frame.DataFrame'>\n",
      "RangeIndex: 263015 entries, 0 to 263014\n",
      "Data columns (total 12 columns):\n",
      " #   Column                      Non-Null Count   Dtype  \n",
      "---  ------                      --------------   -----  \n",
      " 0   User_ID                     263015 non-null  int64  \n",
      " 1   Product_ID                  263014 non-null  object \n",
      " 2   Gender                      263014 non-null  object \n",
      " 3   Age                         263014 non-null  object \n",
      " 4   Occupation                  263014 non-null  float64\n",
      " 5   City_Category               263014 non-null  object \n",
      " 6   Stay_In_Current_City_Years  263014 non-null  object \n",
      " 7   Marital_Status              263014 non-null  float64\n",
      " 8   Product_Category_1          263014 non-null  float64\n",
      " 9   Product_Category_2          181501 non-null  float64\n",
      " 10  Product_Category_3          80582 non-null   float64\n",
      " 11  Purchase                    263014 non-null  float64\n",
      "dtypes: float64(6), int64(1), object(5)\n",
      "memory usage: 24.1+ MB\n"
     ]
    }
   ],
   "source": [
    "data.info()"
   ]
  },
  {
   "cell_type": "code",
   "execution_count": 6,
   "id": "d6069f01",
   "metadata": {},
   "outputs": [
    {
     "data": {
      "text/plain": [
       "['User_ID',\n",
       " 'Product_ID',\n",
       " 'Gender',\n",
       " 'Age',\n",
       " 'Occupation',\n",
       " 'City_Category',\n",
       " 'Stay_In_Current_City_Years',\n",
       " 'Marital_Status',\n",
       " 'Product_Category_1',\n",
       " 'Product_Category_2',\n",
       " 'Product_Category_3',\n",
       " 'Purchase']"
      ]
     },
     "execution_count": 6,
     "metadata": {},
     "output_type": "execute_result"
    }
   ],
   "source": [
    "data.columns.tolist()"
   ]
  },
  {
   "cell_type": "code",
   "execution_count": 7,
   "id": "014e48b3",
   "metadata": {},
   "outputs": [
    {
     "data": {
      "text/plain": [
       "array(['2', '4+', '3', '1', '0', nan], dtype=object)"
      ]
     },
     "execution_count": 7,
     "metadata": {},
     "output_type": "execute_result"
    }
   ],
   "source": [
    "data['Stay_In_Current_City_Years'].unique()"
   ]
  },
  {
   "cell_type": "code",
   "execution_count": 8,
   "id": "09e874a2",
   "metadata": {},
   "outputs": [],
   "source": [
    "#changing the values from 4+ to 4\n",
    "data['Stay_In_Current_City_Years'] = data['Stay_In_Current_City_Years'].replace('4+', '4')"
   ]
  },
  {
   "cell_type": "code",
   "execution_count": 9,
   "id": "f7f97dfe",
   "metadata": {},
   "outputs": [
    {
     "name": "stdout",
     "output_type": "stream",
     "text": [
      "<class 'pandas.core.frame.DataFrame'>\n",
      "RangeIndex: 263015 entries, 0 to 263014\n",
      "Data columns (total 12 columns):\n",
      " #   Column                      Non-Null Count   Dtype  \n",
      "---  ------                      --------------   -----  \n",
      " 0   User_ID                     263015 non-null  int64  \n",
      " 1   Product_ID                  263014 non-null  object \n",
      " 2   Gender                      263014 non-null  object \n",
      " 3   Age                         263014 non-null  object \n",
      " 4   Occupation                  263014 non-null  float64\n",
      " 5   City_Category               263014 non-null  object \n",
      " 6   Stay_In_Current_City_Years  263014 non-null  object \n",
      " 7   Marital_Status              263014 non-null  float64\n",
      " 8   Product_Category_1          263014 non-null  float64\n",
      " 9   Product_Category_2          181501 non-null  float64\n",
      " 10  Product_Category_3          80582 non-null   float64\n",
      " 11  Purchase                    263014 non-null  float64\n",
      "dtypes: float64(6), int64(1), object(5)\n",
      "memory usage: 24.1+ MB\n"
     ]
    }
   ],
   "source": [
    "data.info()"
   ]
  },
  {
   "cell_type": "code",
   "execution_count": 10,
   "id": "aff2ad72",
   "metadata": {},
   "outputs": [
    {
     "data": {
      "text/html": [
       "<div>\n",
       "<style scoped>\n",
       "    .dataframe tbody tr th:only-of-type {\n",
       "        vertical-align: middle;\n",
       "    }\n",
       "\n",
       "    .dataframe tbody tr th {\n",
       "        vertical-align: top;\n",
       "    }\n",
       "\n",
       "    .dataframe thead th {\n",
       "        text-align: right;\n",
       "    }\n",
       "</style>\n",
       "<table border=\"1\" class=\"dataframe\">\n",
       "  <thead>\n",
       "    <tr style=\"text-align: right;\">\n",
       "      <th></th>\n",
       "      <th>User_ID</th>\n",
       "      <th>Product_ID</th>\n",
       "      <th>Gender</th>\n",
       "      <th>Age</th>\n",
       "      <th>Occupation</th>\n",
       "      <th>City_Category</th>\n",
       "      <th>Stay_In_Current_City_Years</th>\n",
       "      <th>Marital_Status</th>\n",
       "      <th>Product_Category_1</th>\n",
       "      <th>Product_Category_2</th>\n",
       "      <th>Product_Category_3</th>\n",
       "      <th>Purchase</th>\n",
       "    </tr>\n",
       "  </thead>\n",
       "  <tbody>\n",
       "    <tr>\n",
       "      <th>0</th>\n",
       "      <td>False</td>\n",
       "      <td>False</td>\n",
       "      <td>False</td>\n",
       "      <td>False</td>\n",
       "      <td>False</td>\n",
       "      <td>False</td>\n",
       "      <td>False</td>\n",
       "      <td>False</td>\n",
       "      <td>False</td>\n",
       "      <td>True</td>\n",
       "      <td>True</td>\n",
       "      <td>False</td>\n",
       "    </tr>\n",
       "    <tr>\n",
       "      <th>1</th>\n",
       "      <td>False</td>\n",
       "      <td>False</td>\n",
       "      <td>False</td>\n",
       "      <td>False</td>\n",
       "      <td>False</td>\n",
       "      <td>False</td>\n",
       "      <td>False</td>\n",
       "      <td>False</td>\n",
       "      <td>False</td>\n",
       "      <td>False</td>\n",
       "      <td>False</td>\n",
       "      <td>False</td>\n",
       "    </tr>\n",
       "    <tr>\n",
       "      <th>2</th>\n",
       "      <td>False</td>\n",
       "      <td>False</td>\n",
       "      <td>False</td>\n",
       "      <td>False</td>\n",
       "      <td>False</td>\n",
       "      <td>False</td>\n",
       "      <td>False</td>\n",
       "      <td>False</td>\n",
       "      <td>False</td>\n",
       "      <td>True</td>\n",
       "      <td>True</td>\n",
       "      <td>False</td>\n",
       "    </tr>\n",
       "    <tr>\n",
       "      <th>3</th>\n",
       "      <td>False</td>\n",
       "      <td>False</td>\n",
       "      <td>False</td>\n",
       "      <td>False</td>\n",
       "      <td>False</td>\n",
       "      <td>False</td>\n",
       "      <td>False</td>\n",
       "      <td>False</td>\n",
       "      <td>False</td>\n",
       "      <td>False</td>\n",
       "      <td>True</td>\n",
       "      <td>False</td>\n",
       "    </tr>\n",
       "    <tr>\n",
       "      <th>4</th>\n",
       "      <td>False</td>\n",
       "      <td>False</td>\n",
       "      <td>False</td>\n",
       "      <td>False</td>\n",
       "      <td>False</td>\n",
       "      <td>False</td>\n",
       "      <td>False</td>\n",
       "      <td>False</td>\n",
       "      <td>False</td>\n",
       "      <td>True</td>\n",
       "      <td>True</td>\n",
       "      <td>False</td>\n",
       "    </tr>\n",
       "    <tr>\n",
       "      <th>...</th>\n",
       "      <td>...</td>\n",
       "      <td>...</td>\n",
       "      <td>...</td>\n",
       "      <td>...</td>\n",
       "      <td>...</td>\n",
       "      <td>...</td>\n",
       "      <td>...</td>\n",
       "      <td>...</td>\n",
       "      <td>...</td>\n",
       "      <td>...</td>\n",
       "      <td>...</td>\n",
       "      <td>...</td>\n",
       "    </tr>\n",
       "    <tr>\n",
       "      <th>263010</th>\n",
       "      <td>False</td>\n",
       "      <td>False</td>\n",
       "      <td>False</td>\n",
       "      <td>False</td>\n",
       "      <td>False</td>\n",
       "      <td>False</td>\n",
       "      <td>False</td>\n",
       "      <td>False</td>\n",
       "      <td>False</td>\n",
       "      <td>False</td>\n",
       "      <td>True</td>\n",
       "      <td>False</td>\n",
       "    </tr>\n",
       "    <tr>\n",
       "      <th>263011</th>\n",
       "      <td>False</td>\n",
       "      <td>False</td>\n",
       "      <td>False</td>\n",
       "      <td>False</td>\n",
       "      <td>False</td>\n",
       "      <td>False</td>\n",
       "      <td>False</td>\n",
       "      <td>False</td>\n",
       "      <td>False</td>\n",
       "      <td>False</td>\n",
       "      <td>False</td>\n",
       "      <td>False</td>\n",
       "    </tr>\n",
       "    <tr>\n",
       "      <th>263012</th>\n",
       "      <td>False</td>\n",
       "      <td>False</td>\n",
       "      <td>False</td>\n",
       "      <td>False</td>\n",
       "      <td>False</td>\n",
       "      <td>False</td>\n",
       "      <td>False</td>\n",
       "      <td>False</td>\n",
       "      <td>False</td>\n",
       "      <td>False</td>\n",
       "      <td>True</td>\n",
       "      <td>False</td>\n",
       "    </tr>\n",
       "    <tr>\n",
       "      <th>263013</th>\n",
       "      <td>False</td>\n",
       "      <td>False</td>\n",
       "      <td>False</td>\n",
       "      <td>False</td>\n",
       "      <td>False</td>\n",
       "      <td>False</td>\n",
       "      <td>False</td>\n",
       "      <td>False</td>\n",
       "      <td>False</td>\n",
       "      <td>True</td>\n",
       "      <td>True</td>\n",
       "      <td>False</td>\n",
       "    </tr>\n",
       "    <tr>\n",
       "      <th>263014</th>\n",
       "      <td>False</td>\n",
       "      <td>True</td>\n",
       "      <td>True</td>\n",
       "      <td>True</td>\n",
       "      <td>True</td>\n",
       "      <td>True</td>\n",
       "      <td>True</td>\n",
       "      <td>True</td>\n",
       "      <td>True</td>\n",
       "      <td>True</td>\n",
       "      <td>True</td>\n",
       "      <td>True</td>\n",
       "    </tr>\n",
       "  </tbody>\n",
       "</table>\n",
       "<p>263015 rows × 12 columns</p>\n",
       "</div>"
      ],
      "text/plain": [
       "        User_ID  Product_ID  Gender    Age  Occupation  City_Category  \\\n",
       "0         False       False   False  False       False          False   \n",
       "1         False       False   False  False       False          False   \n",
       "2         False       False   False  False       False          False   \n",
       "3         False       False   False  False       False          False   \n",
       "4         False       False   False  False       False          False   \n",
       "...         ...         ...     ...    ...         ...            ...   \n",
       "263010    False       False   False  False       False          False   \n",
       "263011    False       False   False  False       False          False   \n",
       "263012    False       False   False  False       False          False   \n",
       "263013    False       False   False  False       False          False   \n",
       "263014    False        True    True   True        True           True   \n",
       "\n",
       "        Stay_In_Current_City_Years  Marital_Status  Product_Category_1  \\\n",
       "0                            False           False               False   \n",
       "1                            False           False               False   \n",
       "2                            False           False               False   \n",
       "3                            False           False               False   \n",
       "4                            False           False               False   \n",
       "...                            ...             ...                 ...   \n",
       "263010                       False           False               False   \n",
       "263011                       False           False               False   \n",
       "263012                       False           False               False   \n",
       "263013                       False           False               False   \n",
       "263014                        True            True                True   \n",
       "\n",
       "        Product_Category_2  Product_Category_3  Purchase  \n",
       "0                     True                True     False  \n",
       "1                    False               False     False  \n",
       "2                     True                True     False  \n",
       "3                    False                True     False  \n",
       "4                     True                True     False  \n",
       "...                    ...                 ...       ...  \n",
       "263010               False                True     False  \n",
       "263011               False               False     False  \n",
       "263012               False                True     False  \n",
       "263013                True                True     False  \n",
       "263014                True                True      True  \n",
       "\n",
       "[263015 rows x 12 columns]"
      ]
     },
     "execution_count": 10,
     "metadata": {},
     "output_type": "execute_result"
    }
   ],
   "source": [
    "#to check the null values\n",
    "data.isnull()"
   ]
  },
  {
   "cell_type": "code",
   "execution_count": 11,
   "id": "b2d5c78e",
   "metadata": {},
   "outputs": [
    {
     "data": {
      "text/plain": [
       "User_ID                            0\n",
       "Product_ID                         1\n",
       "Gender                             1\n",
       "Age                                1\n",
       "Occupation                         1\n",
       "City_Category                      1\n",
       "Stay_In_Current_City_Years         1\n",
       "Marital_Status                     1\n",
       "Product_Category_1                 1\n",
       "Product_Category_2             81514\n",
       "Product_Category_3            182433\n",
       "Purchase                           1\n",
       "dtype: int64"
      ]
     },
     "execution_count": 11,
     "metadata": {},
     "output_type": "execute_result"
    }
   ],
   "source": [
    "#to check the null values\n",
    "data.isnull().sum()"
   ]
  },
  {
   "cell_type": "code",
   "execution_count": 15,
   "id": "ed9d01b2",
   "metadata": {},
   "outputs": [],
   "source": [
    "#dropna\n",
    "data.dropna(inplace=True)"
   ]
  },
  {
   "cell_type": "code",
   "execution_count": null,
   "id": "f6d4618f",
   "metadata": {},
   "outputs": [],
   "source": [
    "#fillna\n",
    "#data.fillna(0)\n",
    "#numerical column - mean\n",
    "#object column - mode"
   ]
  },
  {
   "cell_type": "code",
   "execution_count": 12,
   "id": "54be86d7",
   "metadata": {},
   "outputs": [
    {
     "data": {
      "text/plain": [
       "Index(['User_ID', 'Product_ID', 'Gender', 'Age', 'Occupation', 'City_Category',\n",
       "       'Stay_In_Current_City_Years', 'Marital_Status', 'Product_Category_1',\n",
       "       'Product_Category_2', 'Product_Category_3', 'Purchase'],\n",
       "      dtype='object')"
      ]
     },
     "execution_count": 12,
     "metadata": {},
     "output_type": "execute_result"
    }
   ],
   "source": [
    "data.columns"
   ]
  },
  {
   "cell_type": "code",
   "execution_count": null,
   "id": "9001f95f",
   "metadata": {},
   "outputs": [],
   "source": [
    "data['Product_ID'] = data['Product_ID'].fillna(data['Product_ID'].mode())"
   ]
  },
  {
   "cell_type": "code",
   "execution_count": 13,
   "id": "e3b38425",
   "metadata": {},
   "outputs": [
    {
     "data": {
      "text/plain": [
       "0    P00265242\n",
       "Name: Product_ID, dtype: object"
      ]
     },
     "execution_count": 13,
     "metadata": {},
     "output_type": "execute_result"
    }
   ],
   "source": [
    "data['Product_ID'].mode()"
   ]
  },
  {
   "cell_type": "code",
   "execution_count": 14,
   "id": "692c3d2c",
   "metadata": {},
   "outputs": [
    {
     "data": {
      "text/plain": [
       "'P00265242'"
      ]
     },
     "execution_count": 14,
     "metadata": {},
     "output_type": "execute_result"
    }
   ],
   "source": [
    "data['Product_ID'].mode()[0]"
   ]
  },
  {
   "cell_type": "code",
   "execution_count": null,
   "id": "1879ee06",
   "metadata": {},
   "outputs": [],
   "source": [
    "for i in data.columns:\n",
    "    if data[i].dtype == 'object':\n",
    "        data[i] = data[i].fillna(data[i].mode()[0])\n",
    "    else:\n",
    "        data[i] = data[i].fillna(data[i].mean())"
   ]
  },
  {
   "cell_type": "code",
   "execution_count": 16,
   "id": "c6bb8be4",
   "metadata": {},
   "outputs": [],
   "source": [
    "#changing the datatype to int\n",
    "data['Stay_In_Current_City_Years']  = data['Stay_In_Current_City_Years'].astype(int)"
   ]
  },
  {
   "cell_type": "code",
   "execution_count": 17,
   "id": "272f8c0f",
   "metadata": {},
   "outputs": [
    {
     "name": "stdout",
     "output_type": "stream",
     "text": [
      "<class 'pandas.core.frame.DataFrame'>\n",
      "Int64Index: 80582 entries, 1 to 263011\n",
      "Data columns (total 12 columns):\n",
      " #   Column                      Non-Null Count  Dtype  \n",
      "---  ------                      --------------  -----  \n",
      " 0   User_ID                     80582 non-null  int64  \n",
      " 1   Product_ID                  80582 non-null  object \n",
      " 2   Gender                      80582 non-null  object \n",
      " 3   Age                         80582 non-null  object \n",
      " 4   Occupation                  80582 non-null  float64\n",
      " 5   City_Category               80582 non-null  object \n",
      " 6   Stay_In_Current_City_Years  80582 non-null  int32  \n",
      " 7   Marital_Status              80582 non-null  float64\n",
      " 8   Product_Category_1          80582 non-null  float64\n",
      " 9   Product_Category_2          80582 non-null  float64\n",
      " 10  Product_Category_3          80582 non-null  float64\n",
      " 11  Purchase                    80582 non-null  float64\n",
      "dtypes: float64(6), int32(1), int64(1), object(4)\n",
      "memory usage: 7.7+ MB\n"
     ]
    }
   ],
   "source": [
    "data.info()"
   ]
  },
  {
   "cell_type": "code",
   "execution_count": 18,
   "id": "4baf4397",
   "metadata": {},
   "outputs": [
    {
     "data": {
      "text/plain": [
       "User_ID                       0\n",
       "Product_ID                    0\n",
       "Gender                        0\n",
       "Age                           0\n",
       "Occupation                    0\n",
       "City_Category                 0\n",
       "Stay_In_Current_City_Years    0\n",
       "Marital_Status                0\n",
       "Product_Category_1            0\n",
       "Product_Category_2            0\n",
       "Product_Category_3            0\n",
       "Purchase                      0\n",
       "dtype: int64"
      ]
     },
     "execution_count": 18,
     "metadata": {},
     "output_type": "execute_result"
    }
   ],
   "source": [
    "data.isnull().sum()"
   ]
  },
  {
   "cell_type": "code",
   "execution_count": 19,
   "id": "d61fe598",
   "metadata": {},
   "outputs": [
    {
     "data": {
      "text/plain": [
       "(80582, 12)"
      ]
     },
     "execution_count": 19,
     "metadata": {},
     "output_type": "execute_result"
    }
   ],
   "source": [
    "data.shape"
   ]
  },
  {
   "cell_type": "code",
   "execution_count": 20,
   "id": "5ea63b67",
   "metadata": {},
   "outputs": [
    {
     "data": {
      "text/html": [
       "<div>\n",
       "<style scoped>\n",
       "    .dataframe tbody tr th:only-of-type {\n",
       "        vertical-align: middle;\n",
       "    }\n",
       "\n",
       "    .dataframe tbody tr th {\n",
       "        vertical-align: top;\n",
       "    }\n",
       "\n",
       "    .dataframe thead th {\n",
       "        text-align: right;\n",
       "    }\n",
       "</style>\n",
       "<table border=\"1\" class=\"dataframe\">\n",
       "  <thead>\n",
       "    <tr style=\"text-align: right;\">\n",
       "      <th></th>\n",
       "      <th>User_ID</th>\n",
       "      <th>Occupation</th>\n",
       "      <th>Stay_In_Current_City_Years</th>\n",
       "      <th>Marital_Status</th>\n",
       "      <th>Product_Category_1</th>\n",
       "      <th>Product_Category_2</th>\n",
       "      <th>Product_Category_3</th>\n",
       "      <th>Purchase</th>\n",
       "    </tr>\n",
       "  </thead>\n",
       "  <tbody>\n",
       "    <tr>\n",
       "      <th>count</th>\n",
       "      <td>8.058200e+04</td>\n",
       "      <td>80582.000000</td>\n",
       "      <td>80582.000000</td>\n",
       "      <td>80582.000000</td>\n",
       "      <td>80582.000000</td>\n",
       "      <td>80582.000000</td>\n",
       "      <td>80582.000000</td>\n",
       "      <td>80582.000000</td>\n",
       "    </tr>\n",
       "    <tr>\n",
       "      <th>mean</th>\n",
       "      <td>1.002950e+06</td>\n",
       "      <td>8.173426</td>\n",
       "      <td>1.860775</td>\n",
       "      <td>0.401752</td>\n",
       "      <td>2.738366</td>\n",
       "      <td>6.892085</td>\n",
       "      <td>12.658298</td>\n",
       "      <td>11628.183279</td>\n",
       "    </tr>\n",
       "    <tr>\n",
       "      <th>std</th>\n",
       "      <td>1.706623e+03</td>\n",
       "      <td>6.487913</td>\n",
       "      <td>1.285501</td>\n",
       "      <td>0.490255</td>\n",
       "      <td>2.563225</td>\n",
       "      <td>4.498417</td>\n",
       "      <td>4.129156</td>\n",
       "      <td>5069.515441</td>\n",
       "    </tr>\n",
       "    <tr>\n",
       "      <th>min</th>\n",
       "      <td>1.000001e+06</td>\n",
       "      <td>0.000000</td>\n",
       "      <td>0.000000</td>\n",
       "      <td>0.000000</td>\n",
       "      <td>1.000000</td>\n",
       "      <td>2.000000</td>\n",
       "      <td>3.000000</td>\n",
       "      <td>186.000000</td>\n",
       "    </tr>\n",
       "    <tr>\n",
       "      <th>25%</th>\n",
       "      <td>1.001470e+06</td>\n",
       "      <td>2.000000</td>\n",
       "      <td>1.000000</td>\n",
       "      <td>0.000000</td>\n",
       "      <td>1.000000</td>\n",
       "      <td>2.000000</td>\n",
       "      <td>9.000000</td>\n",
       "      <td>7868.000000</td>\n",
       "    </tr>\n",
       "    <tr>\n",
       "      <th>50%</th>\n",
       "      <td>1.002996e+06</td>\n",
       "      <td>7.000000</td>\n",
       "      <td>2.000000</td>\n",
       "      <td>0.000000</td>\n",
       "      <td>1.000000</td>\n",
       "      <td>6.000000</td>\n",
       "      <td>14.000000</td>\n",
       "      <td>11744.500000</td>\n",
       "    </tr>\n",
       "    <tr>\n",
       "      <th>75%</th>\n",
       "      <td>1.004326e+06</td>\n",
       "      <td>14.000000</td>\n",
       "      <td>3.000000</td>\n",
       "      <td>1.000000</td>\n",
       "      <td>4.000000</td>\n",
       "      <td>10.000000</td>\n",
       "      <td>16.000000</td>\n",
       "      <td>15610.000000</td>\n",
       "    </tr>\n",
       "    <tr>\n",
       "      <th>max</th>\n",
       "      <td>1.006040e+06</td>\n",
       "      <td>20.000000</td>\n",
       "      <td>4.000000</td>\n",
       "      <td>1.000000</td>\n",
       "      <td>15.000000</td>\n",
       "      <td>16.000000</td>\n",
       "      <td>18.000000</td>\n",
       "      <td>23958.000000</td>\n",
       "    </tr>\n",
       "  </tbody>\n",
       "</table>\n",
       "</div>"
      ],
      "text/plain": [
       "            User_ID    Occupation  Stay_In_Current_City_Years  Marital_Status  \\\n",
       "count  8.058200e+04  80582.000000                80582.000000    80582.000000   \n",
       "mean   1.002950e+06      8.173426                    1.860775        0.401752   \n",
       "std    1.706623e+03      6.487913                    1.285501        0.490255   \n",
       "min    1.000001e+06      0.000000                    0.000000        0.000000   \n",
       "25%    1.001470e+06      2.000000                    1.000000        0.000000   \n",
       "50%    1.002996e+06      7.000000                    2.000000        0.000000   \n",
       "75%    1.004326e+06     14.000000                    3.000000        1.000000   \n",
       "max    1.006040e+06     20.000000                    4.000000        1.000000   \n",
       "\n",
       "       Product_Category_1  Product_Category_2  Product_Category_3  \\\n",
       "count        80582.000000        80582.000000        80582.000000   \n",
       "mean             2.738366            6.892085           12.658298   \n",
       "std              2.563225            4.498417            4.129156   \n",
       "min              1.000000            2.000000            3.000000   \n",
       "25%              1.000000            2.000000            9.000000   \n",
       "50%              1.000000            6.000000           14.000000   \n",
       "75%              4.000000           10.000000           16.000000   \n",
       "max             15.000000           16.000000           18.000000   \n",
       "\n",
       "           Purchase  \n",
       "count  80582.000000  \n",
       "mean   11628.183279  \n",
       "std     5069.515441  \n",
       "min      186.000000  \n",
       "25%     7868.000000  \n",
       "50%    11744.500000  \n",
       "75%    15610.000000  \n",
       "max    23958.000000  "
      ]
     },
     "execution_count": 20,
     "metadata": {},
     "output_type": "execute_result"
    }
   ],
   "source": [
    "data.describe() #numerical columns"
   ]
  },
  {
   "cell_type": "code",
   "execution_count": 21,
   "id": "94cd8b22",
   "metadata": {},
   "outputs": [
    {
     "data": {
      "text/html": [
       "<div>\n",
       "<style scoped>\n",
       "    .dataframe tbody tr th:only-of-type {\n",
       "        vertical-align: middle;\n",
       "    }\n",
       "\n",
       "    .dataframe tbody tr th {\n",
       "        vertical-align: top;\n",
       "    }\n",
       "\n",
       "    .dataframe thead th {\n",
       "        text-align: right;\n",
       "    }\n",
       "</style>\n",
       "<table border=\"1\" class=\"dataframe\">\n",
       "  <thead>\n",
       "    <tr style=\"text-align: right;\">\n",
       "      <th></th>\n",
       "      <th>User_ID</th>\n",
       "      <th>Product_ID</th>\n",
       "      <th>Gender</th>\n",
       "      <th>Age</th>\n",
       "      <th>Occupation</th>\n",
       "      <th>City_Category</th>\n",
       "      <th>Stay_In_Current_City_Years</th>\n",
       "      <th>Marital_Status</th>\n",
       "      <th>Product_Category_1</th>\n",
       "      <th>Product_Category_2</th>\n",
       "      <th>Product_Category_3</th>\n",
       "      <th>Purchase</th>\n",
       "    </tr>\n",
       "  </thead>\n",
       "  <tbody>\n",
       "    <tr>\n",
       "      <th>count</th>\n",
       "      <td>8.058200e+04</td>\n",
       "      <td>80582</td>\n",
       "      <td>80582</td>\n",
       "      <td>80582</td>\n",
       "      <td>80582.000000</td>\n",
       "      <td>80582</td>\n",
       "      <td>80582.000000</td>\n",
       "      <td>80582.000000</td>\n",
       "      <td>80582.000000</td>\n",
       "      <td>80582.000000</td>\n",
       "      <td>80582.000000</td>\n",
       "      <td>80582.000000</td>\n",
       "    </tr>\n",
       "    <tr>\n",
       "      <th>unique</th>\n",
       "      <td>NaN</td>\n",
       "      <td>525</td>\n",
       "      <td>2</td>\n",
       "      <td>7</td>\n",
       "      <td>NaN</td>\n",
       "      <td>3</td>\n",
       "      <td>NaN</td>\n",
       "      <td>NaN</td>\n",
       "      <td>NaN</td>\n",
       "      <td>NaN</td>\n",
       "      <td>NaN</td>\n",
       "      <td>NaN</td>\n",
       "    </tr>\n",
       "    <tr>\n",
       "      <th>top</th>\n",
       "      <td>NaN</td>\n",
       "      <td>P00025442</td>\n",
       "      <td>M</td>\n",
       "      <td>26-35</td>\n",
       "      <td>NaN</td>\n",
       "      <td>B</td>\n",
       "      <td>NaN</td>\n",
       "      <td>NaN</td>\n",
       "      <td>NaN</td>\n",
       "      <td>NaN</td>\n",
       "      <td>NaN</td>\n",
       "      <td>NaN</td>\n",
       "    </tr>\n",
       "    <tr>\n",
       "      <th>freq</th>\n",
       "      <td>NaN</td>\n",
       "      <td>808</td>\n",
       "      <td>62549</td>\n",
       "      <td>32313</td>\n",
       "      <td>NaN</td>\n",
       "      <td>33548</td>\n",
       "      <td>NaN</td>\n",
       "      <td>NaN</td>\n",
       "      <td>NaN</td>\n",
       "      <td>NaN</td>\n",
       "      <td>NaN</td>\n",
       "      <td>NaN</td>\n",
       "    </tr>\n",
       "    <tr>\n",
       "      <th>mean</th>\n",
       "      <td>1.002950e+06</td>\n",
       "      <td>NaN</td>\n",
       "      <td>NaN</td>\n",
       "      <td>NaN</td>\n",
       "      <td>8.173426</td>\n",
       "      <td>NaN</td>\n",
       "      <td>1.860775</td>\n",
       "      <td>0.401752</td>\n",
       "      <td>2.738366</td>\n",
       "      <td>6.892085</td>\n",
       "      <td>12.658298</td>\n",
       "      <td>11628.183279</td>\n",
       "    </tr>\n",
       "    <tr>\n",
       "      <th>std</th>\n",
       "      <td>1.706623e+03</td>\n",
       "      <td>NaN</td>\n",
       "      <td>NaN</td>\n",
       "      <td>NaN</td>\n",
       "      <td>6.487913</td>\n",
       "      <td>NaN</td>\n",
       "      <td>1.285501</td>\n",
       "      <td>0.490255</td>\n",
       "      <td>2.563225</td>\n",
       "      <td>4.498417</td>\n",
       "      <td>4.129156</td>\n",
       "      <td>5069.515441</td>\n",
       "    </tr>\n",
       "    <tr>\n",
       "      <th>min</th>\n",
       "      <td>1.000001e+06</td>\n",
       "      <td>NaN</td>\n",
       "      <td>NaN</td>\n",
       "      <td>NaN</td>\n",
       "      <td>0.000000</td>\n",
       "      <td>NaN</td>\n",
       "      <td>0.000000</td>\n",
       "      <td>0.000000</td>\n",
       "      <td>1.000000</td>\n",
       "      <td>2.000000</td>\n",
       "      <td>3.000000</td>\n",
       "      <td>186.000000</td>\n",
       "    </tr>\n",
       "    <tr>\n",
       "      <th>25%</th>\n",
       "      <td>1.001470e+06</td>\n",
       "      <td>NaN</td>\n",
       "      <td>NaN</td>\n",
       "      <td>NaN</td>\n",
       "      <td>2.000000</td>\n",
       "      <td>NaN</td>\n",
       "      <td>1.000000</td>\n",
       "      <td>0.000000</td>\n",
       "      <td>1.000000</td>\n",
       "      <td>2.000000</td>\n",
       "      <td>9.000000</td>\n",
       "      <td>7868.000000</td>\n",
       "    </tr>\n",
       "    <tr>\n",
       "      <th>50%</th>\n",
       "      <td>1.002996e+06</td>\n",
       "      <td>NaN</td>\n",
       "      <td>NaN</td>\n",
       "      <td>NaN</td>\n",
       "      <td>7.000000</td>\n",
       "      <td>NaN</td>\n",
       "      <td>2.000000</td>\n",
       "      <td>0.000000</td>\n",
       "      <td>1.000000</td>\n",
       "      <td>6.000000</td>\n",
       "      <td>14.000000</td>\n",
       "      <td>11744.500000</td>\n",
       "    </tr>\n",
       "    <tr>\n",
       "      <th>75%</th>\n",
       "      <td>1.004326e+06</td>\n",
       "      <td>NaN</td>\n",
       "      <td>NaN</td>\n",
       "      <td>NaN</td>\n",
       "      <td>14.000000</td>\n",
       "      <td>NaN</td>\n",
       "      <td>3.000000</td>\n",
       "      <td>1.000000</td>\n",
       "      <td>4.000000</td>\n",
       "      <td>10.000000</td>\n",
       "      <td>16.000000</td>\n",
       "      <td>15610.000000</td>\n",
       "    </tr>\n",
       "    <tr>\n",
       "      <th>max</th>\n",
       "      <td>1.006040e+06</td>\n",
       "      <td>NaN</td>\n",
       "      <td>NaN</td>\n",
       "      <td>NaN</td>\n",
       "      <td>20.000000</td>\n",
       "      <td>NaN</td>\n",
       "      <td>4.000000</td>\n",
       "      <td>1.000000</td>\n",
       "      <td>15.000000</td>\n",
       "      <td>16.000000</td>\n",
       "      <td>18.000000</td>\n",
       "      <td>23958.000000</td>\n",
       "    </tr>\n",
       "  </tbody>\n",
       "</table>\n",
       "</div>"
      ],
      "text/plain": [
       "             User_ID Product_ID Gender    Age    Occupation City_Category  \\\n",
       "count   8.058200e+04      80582  80582  80582  80582.000000         80582   \n",
       "unique           NaN        525      2      7           NaN             3   \n",
       "top              NaN  P00025442      M  26-35           NaN             B   \n",
       "freq             NaN        808  62549  32313           NaN         33548   \n",
       "mean    1.002950e+06        NaN    NaN    NaN      8.173426           NaN   \n",
       "std     1.706623e+03        NaN    NaN    NaN      6.487913           NaN   \n",
       "min     1.000001e+06        NaN    NaN    NaN      0.000000           NaN   \n",
       "25%     1.001470e+06        NaN    NaN    NaN      2.000000           NaN   \n",
       "50%     1.002996e+06        NaN    NaN    NaN      7.000000           NaN   \n",
       "75%     1.004326e+06        NaN    NaN    NaN     14.000000           NaN   \n",
       "max     1.006040e+06        NaN    NaN    NaN     20.000000           NaN   \n",
       "\n",
       "        Stay_In_Current_City_Years  Marital_Status  Product_Category_1  \\\n",
       "count                 80582.000000    80582.000000        80582.000000   \n",
       "unique                         NaN             NaN                 NaN   \n",
       "top                            NaN             NaN                 NaN   \n",
       "freq                           NaN             NaN                 NaN   \n",
       "mean                      1.860775        0.401752            2.738366   \n",
       "std                       1.285501        0.490255            2.563225   \n",
       "min                       0.000000        0.000000            1.000000   \n",
       "25%                       1.000000        0.000000            1.000000   \n",
       "50%                       2.000000        0.000000            1.000000   \n",
       "75%                       3.000000        1.000000            4.000000   \n",
       "max                       4.000000        1.000000           15.000000   \n",
       "\n",
       "        Product_Category_2  Product_Category_3      Purchase  \n",
       "count         80582.000000        80582.000000  80582.000000  \n",
       "unique                 NaN                 NaN           NaN  \n",
       "top                    NaN                 NaN           NaN  \n",
       "freq                   NaN                 NaN           NaN  \n",
       "mean              6.892085           12.658298  11628.183279  \n",
       "std               4.498417            4.129156   5069.515441  \n",
       "min               2.000000            3.000000    186.000000  \n",
       "25%               2.000000            9.000000   7868.000000  \n",
       "50%               6.000000           14.000000  11744.500000  \n",
       "75%              10.000000           16.000000  15610.000000  \n",
       "max              16.000000           18.000000  23958.000000  "
      ]
     },
     "execution_count": 21,
     "metadata": {},
     "output_type": "execute_result"
    }
   ],
   "source": [
    "data.describe(include='all')"
   ]
  },
  {
   "cell_type": "code",
   "execution_count": 22,
   "id": "562acbd9",
   "metadata": {},
   "outputs": [
    {
     "data": {
      "text/plain": [
       "<seaborn.axisgrid.FacetGrid at 0x1a2bd38ffd0>"
      ]
     },
     "execution_count": 22,
     "metadata": {},
     "output_type": "execute_result"
    },
    {
     "data": {
      "image/png": "[encoded data removed]",
      "text/plain": [
       "<Figure size 360x360 with 1 Axes>"
      ]
     },
     "metadata": {
      "needs_background": "light"
     },
     "output_type": "display_data"
    }
   ],
   "source": [
    "#Visualizations to understand the data\n",
    "sns.catplot(data = data, x=\"Gender\", y='Occupation', kind='bar')"
   ]
  },
  {
   "cell_type": "code",
   "execution_count": 23,
   "id": "b938f028",
   "metadata": {},
   "outputs": [
    {
     "data": {
      "text/plain": [
       "<seaborn.axisgrid.FacetGrid at 0x1a2c2645b50>"
      ]
     },
     "execution_count": 23,
     "metadata": {},
     "output_type": "execute_result"
    },
    {
     "data": {
      "image/png": "[encoded data removed]",
      "text/plain": [
       "<Figure size 360x360 with 1 Axes>"
      ]
     },
     "metadata": {
      "needs_background": "light"
     },
     "output_type": "display_data"
    }
   ],
   "source": [
    "sns.catplot(data = data, x=\"Age\", y='Occupation')"
   ]
  },
  {
   "cell_type": "code",
   "execution_count": 25,
   "id": "ac403b95",
   "metadata": {},
   "outputs": [
    {
     "data": {
      "text/plain": [
       "<seaborn.axisgrid.FacetGrid at 0x1a2c6b20a60>"
      ]
     },
     "execution_count": 25,
     "metadata": {},
     "output_type": "execute_result"
    },
    {
     "data": {
      "image/png": "[encoded data removed]",
      "text/plain": [
       "<Figure size 404.875x360 with 1 Axes>"
      ]
     },
     "metadata": {
      "needs_background": "light"
     },
     "output_type": "display_data"
    }
   ],
   "source": [
    "sns.catplot(data = data, x=\"Age\", y='Occupation', kind='bar', hue='Gender')"
   ]
  },
  {
   "cell_type": "code",
   "execution_count": 26,
   "id": "2a8f5be0",
   "metadata": {},
   "outputs": [
    {
     "name": "stderr",
     "output_type": "stream",
     "text": [
      "C:\\Users\\Dell\\anaconda3\\lib\\site-packages\\seaborn\\_decorators.py:36: FutureWarning: Pass the following variable as a keyword arg: x. From version 0.12, the only valid positional argument will be `data`, and passing other arguments without an explicit keyword will result in an error or misinterpretation.\n",
      "  warnings.warn(\n"
     ]
    },
    {
     "data": {
      "text/plain": [
       "<AxesSubplot:xlabel='Product_Category_1', ylabel='count'>"
      ]
     },
     "execution_count": 26,
     "metadata": {},
     "output_type": "execute_result"
    },
    {
     "data": {
      "image/png": "[encoded data removed]",
      "text/plain": [
       "<Figure size 720x360 with 1 Axes>"
      ]
     },
     "metadata": {
      "needs_background": "light"
     },
     "output_type": "display_data"
    }
   ],
   "source": [
    "#countplot - \n",
    "plt.figure(figsize=(10,5))\n",
    "sns.countplot(data['Product_Category_1']) #frequency of unique variables\n",
    "#plt.show();"
   ]
  },
  {
   "cell_type": "code",
   "execution_count": 27,
   "id": "7623beb4",
   "metadata": {},
   "outputs": [
    {
     "name": "stdout",
     "output_type": "stream",
     "text": [
      "Product_ID ['P00000142' 'P00000242' 'P00000642' 'P00001042' 'P00001142' 'P00001542'\n",
      " 'P00002142' 'P00002242' 'P00003442' 'P00004242' 'P00004842' 'P00005542'\n",
      " 'P00005942' 'P00006942' 'P00008042' 'P00010542' 'P00010742' 'P00010942'\n",
      " 'P00011942' 'P00012242' 'P00014442' 'P00014642' 'P00014842' 'P00015542'\n",
      " 'P00015642' 'P00015842' 'P00015942' 'P00016342' 'P00016442' 'P00016542'\n",
      " 'P00016742' 'P00016842' 'P00019042' 'P00019342' 'P00021842' 'P00023342'\n",
      " 'P00024142' 'P00025242' 'P00025342' 'P00025442' 'P00026042' 'P00028442'\n",
      " 'P00028542' 'P00029542' 'P00030842' 'P00030942' 'P00031842' 'P00032042'\n",
      " 'P00034042' 'P00034142' 'P00034242' 'P00034442' 'P00034742' 'P00035042'\n",
      " 'P00035342' 'P00035542' 'P00035842' 'P00035942' 'P00036842' 'P00037142'\n",
      " 'P00038042' 'P00038142' 'P00041342' 'P00041442' 'P00042142' 'P00043842'\n",
      " 'P00044242' 'P00045042' 'P00045142' 'P00045242' 'P00045342' 'P00046742'\n",
      " 'P00048042' 'P00048342' 'P00050042' 'P00050342' 'P00050442' 'P00051942'\n",
      " 'P00053042' 'P00053342' 'P00053442' 'P00053842' 'P00053942' 'P00054242'\n",
      " 'P00054542' 'P00057442' 'P00057542' 'P00057642' 'P00057742' 'P00057942'\n",
      " 'P00058142' 'P00058242' 'P00059442' 'P00059642' 'P00059742' 'P00061342'\n",
      " 'P00062842' 'P00063342' 'P00064042' 'P00065242' 'P00066242' 'P00066542'\n",
      " 'P00067842' 'P00070042' 'P00070342' 'P00070942' 'P00071242' 'P00073842'\n",
      " 'P00074142' 'P00074642' 'P00075342' 'P00076542' 'P00076942' 'P00078542'\n",
      " 'P00078742' 'P00079742' 'P00080342' 'P00081142' 'P00082742' 'P00083342'\n",
      " 'P00084742' 'P00085142' 'P00085242' 'P00085942' 'P00086042' 'P00086442'\n",
      " 'P00087042' 'P00087142' 'P00087342' 'P00088242' 'P00088542' 'P00088642'\n",
      " 'P00090942' 'P00092842' 'P00093342' 'P00100442' 'P00102342' 'P00102642'\n",
      " 'P00105142' 'P00105342' 'P00107042' 'P00107142' 'P00108542' 'P00109242'\n",
      " 'P00109542' 'P00110742' 'P00110842' 'P00111142' 'P00111642' 'P00112142'\n",
      " 'P00112242' 'P00112542' 'P00112642' 'P00113142' 'P00113242' 'P00113342'\n",
      " 'P00113842' 'P00114342' 'P00114942' 'P00115142' 'P00115342' 'P00115742'\n",
      " 'P00116142' 'P00116842' 'P00116942' 'P00117042' 'P00117342' 'P00117842'\n",
      " 'P00118342' 'P00118642' 'P00119142' 'P00119642' 'P00119742' 'P00120742'\n",
      " 'P00121342' 'P00122442' 'P00125942' 'P00126242' 'P00127342' 'P00127442'\n",
      " 'P00127542' 'P00127642' 'P00127742' 'P00127842' 'P00127942' 'P00128042'\n",
      " 'P00128142' 'P00128242' 'P00128342' 'P00129342' 'P00129842' 'P00130742'\n",
      " 'P00131442' 'P00135242' 'P00136242' 'P00136742' 'P00136842' 'P00137542'\n",
      " 'P00137642' 'P00138042' 'P00138442' 'P00140442' 'P00140542' 'P00141942'\n",
      " 'P00142142' 'P00142842' 'P00142942' 'P00143342' 'P00143642' 'P00144042'\n",
      " 'P00144642' 'P00145042' 'P00145642' 'P00145942' 'P00146042' 'P00146142'\n",
      " 'P00146542' 'P00146742' 'P00146842' 'P00147142' 'P00148542' 'P00148642'\n",
      " 'P00148842' 'P00149442' 'P00149542' 'P00150842' 'P00150942' 'P00151242'\n",
      " 'P00151742' 'P00151842' 'P00153842' 'P00154042' 'P00154742' 'P00155242'\n",
      " 'P00155442' 'P00156242' 'P00156742' 'P00157442' 'P00157642' 'P00158542'\n",
      " 'P00159242' 'P00159542' 'P00159742' 'P00160042' 'P00160642' 'P00161242'\n",
      " 'P00161542' 'P00161842' 'P00163242' 'P00163442' 'P00163542' 'P00163742'\n",
      " 'P00164042' 'P00164442' 'P00165442' 'P00165642' 'P00166942' 'P00169742'\n",
      " 'P00170242' 'P00170942' 'P00171542' 'P00171642' 'P00173042' 'P00173142'\n",
      " 'P00173342' 'P00173742' 'P00173842' 'P00173942' 'P00174142' 'P00174642'\n",
      " 'P00176542' 'P00177442' 'P00178842' 'P00182142' 'P00182242' 'P00182342'\n",
      " 'P00182642' 'P00182742' 'P00182942' 'P00183342' 'P00183642' 'P00183742'\n",
      " 'P00183842' 'P00184442' 'P00184942' 'P00185742' 'P00185842' 'P00186142'\n",
      " 'P00186342' 'P00186542' 'P00186642' 'P00187042' 'P00187142' 'P00187342'\n",
      " 'P00187442' 'P00188542' 'P00188742' 'P00189842' 'P00190042' 'P00190142'\n",
      " 'P00190742' 'P00190842' 'P00191242' 'P00191342' 'P00191442' 'P00191642'\n",
      " 'P00191942' 'P00192042' 'P00192242' 'P00192542' 'P00193042' 'P00193642'\n",
      " 'P00194642' 'P00195042' 'P00195842' 'P00196042' 'P00196142' 'P00196242'\n",
      " 'P00196342' 'P00196542' 'P00198142' 'P00198242' 'P00198742' 'P00199142'\n",
      " 'P00199342' 'P00200242' 'P00201342' 'P00201442' 'P00202142' 'P00202742'\n",
      " 'P00205442' 'P00205942' 'P00206442' 'P00207342' 'P00208442' 'P00208742'\n",
      " 'P00209642' 'P00209742' 'P00213042' 'P00214642' 'P00215242' 'P00216242'\n",
      " 'P00216342' 'P00217442' 'P00217542' 'P00217642' 'P00217842' 'P00219742'\n",
      " 'P00220742' 'P00221342' 'P00221442' 'P00222242' 'P00222942' 'P00223042'\n",
      " 'P00223442' 'P00223542' 'P00223742' 'P00223842' 'P00225842' 'P00227642'\n",
      " 'P00228342' 'P00229142' 'P00229642' 'P00231342' 'P00233142' 'P00233342'\n",
      " 'P00233442' 'P00234642' 'P00234842' 'P00235842' 'P00235942' 'P00237542'\n",
      " 'P00239042' 'P00239242' 'P00239742' 'P00240242' 'P00241242' 'P00241342'\n",
      " 'P00241642' 'P00242542' 'P00242742' 'P00243042' 'P00243942' 'P00244042'\n",
      " 'P00244142' 'P00244242' 'P00245642' 'P00246142' 'P00247142' 'P00247442'\n",
      " 'P00247942' 'P00248942' 'P00249442' 'P00249542' 'P00249742' 'P00251642'\n",
      " 'P00251842' 'P00251942' 'P00253142' 'P00254242' 'P00256042' 'P00259842'\n",
      " 'P00262242' 'P00264542' 'P00266642' 'P00266742' 'P00266942' 'P00267342'\n",
      " 'P00267442' 'P00269342' 'P00270542' 'P00270942' 'P00273442' 'P00274342'\n",
      " 'P00274842' 'P00275842' 'P00277442' 'P00277542' 'P00277642' 'P00278942'\n",
      " 'P00281742' 'P00282242' 'P00282442' 'P00283142' 'P00284842' 'P00285642'\n",
      " 'P00288942' 'P00289342' 'P00289942' 'P00290242' 'P00290742' 'P00293842'\n",
      " 'P00294142' 'P00294442' 'P00295942' 'P00296042' 'P00296842' 'P00298042'\n",
      " 'P00303442' 'P00303842' 'P00304342' 'P00304642' 'P00305042' 'P00308242'\n",
      " 'P00310842' 'P00311742' 'P00313442' 'P00313842' 'P00317642' 'P00318642'\n",
      " 'P00320742' 'P00320842' 'P00320942' 'P00321242' 'P00321742' 'P00322942'\n",
      " 'P00324442' 'P00324742' 'P00328942' 'P00329542' 'P00329942' 'P00330342'\n",
      " 'P00334042' 'P00334642' 'P00337242' 'P00337342' 'P00338942' 'P00339842'\n",
      " 'P00340342' 'P00341342' 'P00341942' 'P00342042' 'P00342142' 'P00342242'\n",
      " 'P00342342' 'P00342442' 'P00342542' 'P00344442' 'P00345542' 'P00345642'\n",
      " 'P00345742' 'P00345842' 'P00346042' 'P00346442' 'P00346542' 'P00350442'\n",
      " 'P00350942' 'P00351142' 'P00351242' 'P00351342' 'P00351642' 'P00351742'\n",
      " 'P00352142' 'P00352242' 'P00352842' 'P00353342' 'P00353442' 'P00356342'\n",
      " 'P00358342' 'P00358642' 'P00359042' 'P00359242' 'P00361942' 'P00363242'\n",
      " 'P00364442' 'P00369942' 'P00370042' 'P0094342' 'P0094542' 'P0094742'\n",
      " 'P0095042' 'P0095442' 'P0095542' 'P0095842' 'P0096042' 'P0096442'\n",
      " 'P0096542' 'P0096642' 'P0096742' 'P0096842' 'P0097342' 'P0099042'\n",
      " 'P0099742' 'P0099842' 'P0099942']\n",
      "Gender ['F' 'M']\n",
      "Age ['0-17' '18-25' '26-35' '36-45' '46-50' '51-55' '55+']\n",
      "City_Category ['A' 'B' 'C']\n"
     ]
    }
   ],
   "source": [
    "#label encoding\n",
    "\n",
    "from sklearn.preprocessing import LabelEncoder\n",
    "le = LabelEncoder()\n",
    "\n",
    "#Product_ID\n",
    "#data['Product_ID'] = le.fit_transform(data['Product_ID'])\n",
    "\n",
    "for i in data.columns:\n",
    "    \n",
    "    if data[i].dtype == 'object':\n",
    "        data[i] = le.fit_transform(data[i])\n",
    "        print(i, le.classes_)"
   ]
  },
  {
   "cell_type": "code",
   "execution_count": 29,
   "id": "c458a6d4",
   "metadata": {},
   "outputs": [
    {
     "data": {
      "text/plain": [
       "array([0, 1])"
      ]
     },
     "execution_count": 29,
     "metadata": {},
     "output_type": "execute_result"
    }
   ],
   "source": [
    "data['Gender'].unique()"
   ]
  },
  {
   "cell_type": "code",
   "execution_count": 28,
   "id": "15eb3a1e",
   "metadata": {},
   "outputs": [
    {
     "data": {
      "text/html": [
       "<div>\n",
       "<style scoped>\n",
       "    .dataframe tbody tr th:only-of-type {\n",
       "        vertical-align: middle;\n",
       "    }\n",
       "\n",
       "    .dataframe tbody tr th {\n",
       "        vertical-align: top;\n",
       "    }\n",
       "\n",
       "    .dataframe thead th {\n",
       "        text-align: right;\n",
       "    }\n",
       "</style>\n",
       "<table border=\"1\" class=\"dataframe\">\n",
       "  <thead>\n",
       "    <tr style=\"text-align: right;\">\n",
       "      <th></th>\n",
       "      <th>User_ID</th>\n",
       "      <th>Product_ID</th>\n",
       "      <th>Gender</th>\n",
       "      <th>Age</th>\n",
       "      <th>Occupation</th>\n",
       "      <th>City_Category</th>\n",
       "      <th>Stay_In_Current_City_Years</th>\n",
       "      <th>Marital_Status</th>\n",
       "      <th>Product_Category_1</th>\n",
       "      <th>Product_Category_2</th>\n",
       "      <th>Product_Category_3</th>\n",
       "      <th>Purchase</th>\n",
       "    </tr>\n",
       "  </thead>\n",
       "  <tbody>\n",
       "    <tr>\n",
       "      <th>1</th>\n",
       "      <td>1000001</td>\n",
       "      <td>391</td>\n",
       "      <td>0</td>\n",
       "      <td>0</td>\n",
       "      <td>10.0</td>\n",
       "      <td>0</td>\n",
       "      <td>2</td>\n",
       "      <td>0.0</td>\n",
       "      <td>1.0</td>\n",
       "      <td>6.0</td>\n",
       "      <td>14.0</td>\n",
       "      <td>15200.0</td>\n",
       "    </tr>\n",
       "    <tr>\n",
       "      <th>6</th>\n",
       "      <td>1000004</td>\n",
       "      <td>284</td>\n",
       "      <td>1</td>\n",
       "      <td>4</td>\n",
       "      <td>7.0</td>\n",
       "      <td>1</td>\n",
       "      <td>2</td>\n",
       "      <td>1.0</td>\n",
       "      <td>1.0</td>\n",
       "      <td>8.0</td>\n",
       "      <td>17.0</td>\n",
       "      <td>19215.0</td>\n",
       "    </tr>\n",
       "    <tr>\n",
       "      <th>13</th>\n",
       "      <td>1000005</td>\n",
       "      <td>211</td>\n",
       "      <td>1</td>\n",
       "      <td>2</td>\n",
       "      <td>20.0</td>\n",
       "      <td>0</td>\n",
       "      <td>1</td>\n",
       "      <td>1.0</td>\n",
       "      <td>1.0</td>\n",
       "      <td>2.0</td>\n",
       "      <td>5.0</td>\n",
       "      <td>15665.0</td>\n",
       "    </tr>\n",
       "    <tr>\n",
       "      <th>14</th>\n",
       "      <td>1000006</td>\n",
       "      <td>363</td>\n",
       "      <td>0</td>\n",
       "      <td>5</td>\n",
       "      <td>9.0</td>\n",
       "      <td>0</td>\n",
       "      <td>1</td>\n",
       "      <td>0.0</td>\n",
       "      <td>5.0</td>\n",
       "      <td>8.0</td>\n",
       "      <td>14.0</td>\n",
       "      <td>5378.0</td>\n",
       "    </tr>\n",
       "    <tr>\n",
       "      <th>16</th>\n",
       "      <td>1000006</td>\n",
       "      <td>517</td>\n",
       "      <td>0</td>\n",
       "      <td>5</td>\n",
       "      <td>9.0</td>\n",
       "      <td>0</td>\n",
       "      <td>1</td>\n",
       "      <td>0.0</td>\n",
       "      <td>2.0</td>\n",
       "      <td>3.0</td>\n",
       "      <td>4.0</td>\n",
       "      <td>13055.0</td>\n",
       "    </tr>\n",
       "  </tbody>\n",
       "</table>\n",
       "</div>"
      ],
      "text/plain": [
       "    User_ID  Product_ID  Gender  Age  Occupation  City_Category  \\\n",
       "1   1000001         391       0    0        10.0              0   \n",
       "6   1000004         284       1    4         7.0              1   \n",
       "13  1000005         211       1    2        20.0              0   \n",
       "14  1000006         363       0    5         9.0              0   \n",
       "16  1000006         517       0    5         9.0              0   \n",
       "\n",
       "    Stay_In_Current_City_Years  Marital_Status  Product_Category_1  \\\n",
       "1                            2             0.0                 1.0   \n",
       "6                            2             1.0                 1.0   \n",
       "13                           1             1.0                 1.0   \n",
       "14                           1             0.0                 5.0   \n",
       "16                           1             0.0                 2.0   \n",
       "\n",
       "    Product_Category_2  Product_Category_3  Purchase  \n",
       "1                  6.0                14.0   15200.0  \n",
       "6                  8.0                17.0   19215.0  \n",
       "13                 2.0                 5.0   15665.0  \n",
       "14                 8.0                14.0    5378.0  \n",
       "16                 3.0                 4.0   13055.0  "
      ]
     },
     "execution_count": 28,
     "metadata": {},
     "output_type": "execute_result"
    }
   ],
   "source": [
    "data.head()"
   ]
  },
  {
   "cell_type": "markdown",
   "id": "dd2ea978",
   "metadata": {},
   "source": [
    "## Statistical Analysis"
   ]
  },
  {
   "cell_type": "markdown",
   "id": "246bbfb1",
   "metadata": {},
   "source": [
    "1) Hypothesis testing\n",
    "2) Decide the test\n",
    "3) Divide the data\n",
    "4) Apply the test -> p-value"
   ]
  },
  {
   "cell_type": "markdown",
   "id": "946e5853",
   "metadata": {},
   "source": [
    "It was observed that the average purchase made by the Men of the age 18-25\n",
    "was 10000. Is it still the same?"
   ]
  },
  {
   "cell_type": "code",
   "execution_count": null,
   "id": "29abd2cd",
   "metadata": {},
   "outputs": [],
   "source": [
    "#Null hypothesis - The mean is 10000\n",
    "#Alternate hypothesis - The mean is not 10000"
   ]
  },
  {
   "cell_type": "code",
   "execution_count": null,
   "id": "188d7f75",
   "metadata": {},
   "outputs": [],
   "source": [
    "#One sample T-test = is used to test whether or not the mean of a population is equal to some value."
   ]
  },
  {
   "cell_type": "code",
   "execution_count": 30,
   "id": "accfec2b",
   "metadata": {},
   "outputs": [
    {
     "data": {
      "text/html": [
       "<div>\n",
       "<style scoped>\n",
       "    .dataframe tbody tr th:only-of-type {\n",
       "        vertical-align: middle;\n",
       "    }\n",
       "\n",
       "    .dataframe tbody tr th {\n",
       "        vertical-align: top;\n",
       "    }\n",
       "\n",
       "    .dataframe thead th {\n",
       "        text-align: right;\n",
       "    }\n",
       "</style>\n",
       "<table border=\"1\" class=\"dataframe\">\n",
       "  <thead>\n",
       "    <tr style=\"text-align: right;\">\n",
       "      <th></th>\n",
       "      <th>User_ID</th>\n",
       "      <th>Product_ID</th>\n",
       "      <th>Gender</th>\n",
       "      <th>Age</th>\n",
       "      <th>Occupation</th>\n",
       "      <th>City_Category</th>\n",
       "      <th>Stay_In_Current_City_Years</th>\n",
       "      <th>Marital_Status</th>\n",
       "      <th>Product_Category_1</th>\n",
       "      <th>Product_Category_2</th>\n",
       "      <th>Product_Category_3</th>\n",
       "      <th>Purchase</th>\n",
       "    </tr>\n",
       "  </thead>\n",
       "  <tbody>\n",
       "    <tr>\n",
       "      <th>98</th>\n",
       "      <td>1000022</td>\n",
       "      <td>487</td>\n",
       "      <td>1</td>\n",
       "      <td>1</td>\n",
       "      <td>15.0</td>\n",
       "      <td>0</td>\n",
       "      <td>4</td>\n",
       "      <td>0.0</td>\n",
       "      <td>1.0</td>\n",
       "      <td>8.0</td>\n",
       "      <td>17.0</td>\n",
       "      <td>12099.0</td>\n",
       "    </tr>\n",
       "    <tr>\n",
       "      <th>103</th>\n",
       "      <td>1000022</td>\n",
       "      <td>402</td>\n",
       "      <td>1</td>\n",
       "      <td>1</td>\n",
       "      <td>15.0</td>\n",
       "      <td>0</td>\n",
       "      <td>4</td>\n",
       "      <td>0.0</td>\n",
       "      <td>1.0</td>\n",
       "      <td>11.0</td>\n",
       "      <td>16.0</td>\n",
       "      <td>12098.0</td>\n",
       "    </tr>\n",
       "    <tr>\n",
       "      <th>111</th>\n",
       "      <td>1000022</td>\n",
       "      <td>358</td>\n",
       "      <td>1</td>\n",
       "      <td>1</td>\n",
       "      <td>15.0</td>\n",
       "      <td>0</td>\n",
       "      <td>4</td>\n",
       "      <td>0.0</td>\n",
       "      <td>2.0</td>\n",
       "      <td>4.0</td>\n",
       "      <td>15.0</td>\n",
       "      <td>9564.0</td>\n",
       "    </tr>\n",
       "    <tr>\n",
       "      <th>127</th>\n",
       "      <td>1000025</td>\n",
       "      <td>332</td>\n",
       "      <td>1</td>\n",
       "      <td>1</td>\n",
       "      <td>4.0</td>\n",
       "      <td>2</td>\n",
       "      <td>4</td>\n",
       "      <td>0.0</td>\n",
       "      <td>1.0</td>\n",
       "      <td>5.0</td>\n",
       "      <td>9.0</td>\n",
       "      <td>15361.0</td>\n",
       "    </tr>\n",
       "    <tr>\n",
       "      <th>128</th>\n",
       "      <td>1000025</td>\n",
       "      <td>71</td>\n",
       "      <td>1</td>\n",
       "      <td>1</td>\n",
       "      <td>4.0</td>\n",
       "      <td>2</td>\n",
       "      <td>4</td>\n",
       "      <td>0.0</td>\n",
       "      <td>1.0</td>\n",
       "      <td>2.0</td>\n",
       "      <td>15.0</td>\n",
       "      <td>15770.0</td>\n",
       "    </tr>\n",
       "    <tr>\n",
       "      <th>...</th>\n",
       "      <td>...</td>\n",
       "      <td>...</td>\n",
       "      <td>...</td>\n",
       "      <td>...</td>\n",
       "      <td>...</td>\n",
       "      <td>...</td>\n",
       "      <td>...</td>\n",
       "      <td>...</td>\n",
       "      <td>...</td>\n",
       "      <td>...</td>\n",
       "      <td>...</td>\n",
       "      <td>...</td>\n",
       "    </tr>\n",
       "    <tr>\n",
       "      <th>262758</th>\n",
       "      <td>1004446</td>\n",
       "      <td>180</td>\n",
       "      <td>1</td>\n",
       "      <td>1</td>\n",
       "      <td>18.0</td>\n",
       "      <td>1</td>\n",
       "      <td>1</td>\n",
       "      <td>1.0</td>\n",
       "      <td>1.0</td>\n",
       "      <td>2.0</td>\n",
       "      <td>15.0</td>\n",
       "      <td>11512.0</td>\n",
       "    </tr>\n",
       "    <tr>\n",
       "      <th>262759</th>\n",
       "      <td>1004446</td>\n",
       "      <td>394</td>\n",
       "      <td>1</td>\n",
       "      <td>1</td>\n",
       "      <td>18.0</td>\n",
       "      <td>1</td>\n",
       "      <td>1</td>\n",
       "      <td>1.0</td>\n",
       "      <td>1.0</td>\n",
       "      <td>15.0</td>\n",
       "      <td>18.0</td>\n",
       "      <td>11521.0</td>\n",
       "    </tr>\n",
       "    <tr>\n",
       "      <th>262760</th>\n",
       "      <td>1004446</td>\n",
       "      <td>23</td>\n",
       "      <td>1</td>\n",
       "      <td>1</td>\n",
       "      <td>18.0</td>\n",
       "      <td>1</td>\n",
       "      <td>1</td>\n",
       "      <td>1.0</td>\n",
       "      <td>1.0</td>\n",
       "      <td>2.0</td>\n",
       "      <td>13.0</td>\n",
       "      <td>3988.0</td>\n",
       "    </tr>\n",
       "    <tr>\n",
       "      <th>262764</th>\n",
       "      <td>1004446</td>\n",
       "      <td>75</td>\n",
       "      <td>1</td>\n",
       "      <td>1</td>\n",
       "      <td>18.0</td>\n",
       "      <td>1</td>\n",
       "      <td>1</td>\n",
       "      <td>1.0</td>\n",
       "      <td>5.0</td>\n",
       "      <td>8.0</td>\n",
       "      <td>17.0</td>\n",
       "      <td>5444.0</td>\n",
       "    </tr>\n",
       "    <tr>\n",
       "      <th>262952</th>\n",
       "      <td>1004465</td>\n",
       "      <td>209</td>\n",
       "      <td>1</td>\n",
       "      <td>1</td>\n",
       "      <td>4.0</td>\n",
       "      <td>0</td>\n",
       "      <td>1</td>\n",
       "      <td>1.0</td>\n",
       "      <td>2.0</td>\n",
       "      <td>3.0</td>\n",
       "      <td>4.0</td>\n",
       "      <td>3240.0</td>\n",
       "    </tr>\n",
       "  </tbody>\n",
       "</table>\n",
       "<p>11904 rows × 12 columns</p>\n",
       "</div>"
      ],
      "text/plain": [
       "        User_ID  Product_ID  Gender  Age  Occupation  City_Category  \\\n",
       "98      1000022         487       1    1        15.0              0   \n",
       "103     1000022         402       1    1        15.0              0   \n",
       "111     1000022         358       1    1        15.0              0   \n",
       "127     1000025         332       1    1         4.0              2   \n",
       "128     1000025          71       1    1         4.0              2   \n",
       "...         ...         ...     ...  ...         ...            ...   \n",
       "262758  1004446         180       1    1        18.0              1   \n",
       "262759  1004446         394       1    1        18.0              1   \n",
       "262760  1004446          23       1    1        18.0              1   \n",
       "262764  1004446          75       1    1        18.0              1   \n",
       "262952  1004465         209       1    1         4.0              0   \n",
       "\n",
       "        Stay_In_Current_City_Years  Marital_Status  Product_Category_1  \\\n",
       "98                               4             0.0                 1.0   \n",
       "103                              4             0.0                 1.0   \n",
       "111                              4             0.0                 2.0   \n",
       "127                              4             0.0                 1.0   \n",
       "128                              4             0.0                 1.0   \n",
       "...                            ...             ...                 ...   \n",
       "262758                           1             1.0                 1.0   \n",
       "262759                           1             1.0                 1.0   \n",
       "262760                           1             1.0                 1.0   \n",
       "262764                           1             1.0                 5.0   \n",
       "262952                           1             1.0                 2.0   \n",
       "\n",
       "        Product_Category_2  Product_Category_3  Purchase  \n",
       "98                     8.0                17.0   12099.0  \n",
       "103                   11.0                16.0   12098.0  \n",
       "111                    4.0                15.0    9564.0  \n",
       "127                    5.0                 9.0   15361.0  \n",
       "128                    2.0                15.0   15770.0  \n",
       "...                    ...                 ...       ...  \n",
       "262758                 2.0                15.0   11512.0  \n",
       "262759                15.0                18.0   11521.0  \n",
       "262760                 2.0                13.0    3988.0  \n",
       "262764                 8.0                17.0    5444.0  \n",
       "262952                 3.0                 4.0    3240.0  \n",
       "\n",
       "[11904 rows x 12 columns]"
      ]
     },
     "execution_count": 30,
     "metadata": {},
     "output_type": "execute_result"
    }
   ],
   "source": [
    "new_data = data.loc[(data[\"Age\"]==1) & (data['Gender']==1)] #Male and 18-25\n",
    "new_data"
   ]
  },
  {
   "cell_type": "code",
   "execution_count": 31,
   "id": "72643ef0",
   "metadata": {},
   "outputs": [
    {
     "data": {
      "text/html": [
       "<div>\n",
       "<style scoped>\n",
       "    .dataframe tbody tr th:only-of-type {\n",
       "        vertical-align: middle;\n",
       "    }\n",
       "\n",
       "    .dataframe tbody tr th {\n",
       "        vertical-align: top;\n",
       "    }\n",
       "\n",
       "    .dataframe thead th {\n",
       "        text-align: right;\n",
       "    }\n",
       "</style>\n",
       "<table border=\"1\" class=\"dataframe\">\n",
       "  <thead>\n",
       "    <tr style=\"text-align: right;\">\n",
       "      <th></th>\n",
       "      <th>User_ID</th>\n",
       "      <th>Product_ID</th>\n",
       "      <th>Gender</th>\n",
       "      <th>Age</th>\n",
       "      <th>Occupation</th>\n",
       "      <th>City_Category</th>\n",
       "      <th>Stay_In_Current_City_Years</th>\n",
       "      <th>Marital_Status</th>\n",
       "      <th>Product_Category_1</th>\n",
       "      <th>Product_Category_2</th>\n",
       "      <th>Product_Category_3</th>\n",
       "      <th>Purchase</th>\n",
       "    </tr>\n",
       "  </thead>\n",
       "  <tbody>\n",
       "    <tr>\n",
       "      <th>84865</th>\n",
       "      <td>1001120</td>\n",
       "      <td>88</td>\n",
       "      <td>1</td>\n",
       "      <td>1</td>\n",
       "      <td>4.0</td>\n",
       "      <td>0</td>\n",
       "      <td>0</td>\n",
       "      <td>1.0</td>\n",
       "      <td>2.0</td>\n",
       "      <td>8.0</td>\n",
       "      <td>18.0</td>\n",
       "      <td>13004.0</td>\n",
       "    </tr>\n",
       "    <tr>\n",
       "      <th>106204</th>\n",
       "      <td>1004352</td>\n",
       "      <td>22</td>\n",
       "      <td>1</td>\n",
       "      <td>1</td>\n",
       "      <td>4.0</td>\n",
       "      <td>1</td>\n",
       "      <td>0</td>\n",
       "      <td>0.0</td>\n",
       "      <td>1.0</td>\n",
       "      <td>2.0</td>\n",
       "      <td>5.0</td>\n",
       "      <td>15487.0</td>\n",
       "    </tr>\n",
       "    <tr>\n",
       "      <th>77936</th>\n",
       "      <td>1006008</td>\n",
       "      <td>145</td>\n",
       "      <td>1</td>\n",
       "      <td>1</td>\n",
       "      <td>4.0</td>\n",
       "      <td>0</td>\n",
       "      <td>4</td>\n",
       "      <td>0.0</td>\n",
       "      <td>1.0</td>\n",
       "      <td>2.0</td>\n",
       "      <td>8.0</td>\n",
       "      <td>15826.0</td>\n",
       "    </tr>\n",
       "    <tr>\n",
       "      <th>229316</th>\n",
       "      <td>1005365</td>\n",
       "      <td>249</td>\n",
       "      <td>1</td>\n",
       "      <td>1</td>\n",
       "      <td>12.0</td>\n",
       "      <td>2</td>\n",
       "      <td>0</td>\n",
       "      <td>0.0</td>\n",
       "      <td>6.0</td>\n",
       "      <td>8.0</td>\n",
       "      <td>13.0</td>\n",
       "      <td>12598.0</td>\n",
       "    </tr>\n",
       "    <tr>\n",
       "      <th>195613</th>\n",
       "      <td>1000186</td>\n",
       "      <td>138</td>\n",
       "      <td>1</td>\n",
       "      <td>1</td>\n",
       "      <td>5.0</td>\n",
       "      <td>2</td>\n",
       "      <td>0</td>\n",
       "      <td>0.0</td>\n",
       "      <td>1.0</td>\n",
       "      <td>2.0</td>\n",
       "      <td>15.0</td>\n",
       "      <td>15708.0</td>\n",
       "    </tr>\n",
       "    <tr>\n",
       "      <th>...</th>\n",
       "      <td>...</td>\n",
       "      <td>...</td>\n",
       "      <td>...</td>\n",
       "      <td>...</td>\n",
       "      <td>...</td>\n",
       "      <td>...</td>\n",
       "      <td>...</td>\n",
       "      <td>...</td>\n",
       "      <td>...</td>\n",
       "      <td>...</td>\n",
       "      <td>...</td>\n",
       "      <td>...</td>\n",
       "    </tr>\n",
       "    <tr>\n",
       "      <th>237161</th>\n",
       "      <td>1000589</td>\n",
       "      <td>186</td>\n",
       "      <td>1</td>\n",
       "      <td>1</td>\n",
       "      <td>2.0</td>\n",
       "      <td>0</td>\n",
       "      <td>1</td>\n",
       "      <td>0.0</td>\n",
       "      <td>1.0</td>\n",
       "      <td>5.0</td>\n",
       "      <td>18.0</td>\n",
       "      <td>19541.0</td>\n",
       "    </tr>\n",
       "    <tr>\n",
       "      <th>100783</th>\n",
       "      <td>1003610</td>\n",
       "      <td>4</td>\n",
       "      <td>1</td>\n",
       "      <td>1</td>\n",
       "      <td>6.0</td>\n",
       "      <td>1</td>\n",
       "      <td>4</td>\n",
       "      <td>0.0</td>\n",
       "      <td>5.0</td>\n",
       "      <td>8.0</td>\n",
       "      <td>14.0</td>\n",
       "      <td>5150.0</td>\n",
       "    </tr>\n",
       "    <tr>\n",
       "      <th>106348</th>\n",
       "      <td>1004378</td>\n",
       "      <td>83</td>\n",
       "      <td>1</td>\n",
       "      <td>1</td>\n",
       "      <td>17.0</td>\n",
       "      <td>1</td>\n",
       "      <td>4</td>\n",
       "      <td>0.0</td>\n",
       "      <td>1.0</td>\n",
       "      <td>6.0</td>\n",
       "      <td>14.0</td>\n",
       "      <td>15221.0</td>\n",
       "    </tr>\n",
       "    <tr>\n",
       "      <th>160789</th>\n",
       "      <td>1000881</td>\n",
       "      <td>178</td>\n",
       "      <td>1</td>\n",
       "      <td>1</td>\n",
       "      <td>14.0</td>\n",
       "      <td>0</td>\n",
       "      <td>1</td>\n",
       "      <td>0.0</td>\n",
       "      <td>1.0</td>\n",
       "      <td>2.0</td>\n",
       "      <td>15.0</td>\n",
       "      <td>19201.0</td>\n",
       "    </tr>\n",
       "    <tr>\n",
       "      <th>201426</th>\n",
       "      <td>1001117</td>\n",
       "      <td>332</td>\n",
       "      <td>1</td>\n",
       "      <td>1</td>\n",
       "      <td>14.0</td>\n",
       "      <td>1</td>\n",
       "      <td>3</td>\n",
       "      <td>0.0</td>\n",
       "      <td>1.0</td>\n",
       "      <td>5.0</td>\n",
       "      <td>9.0</td>\n",
       "      <td>7924.0</td>\n",
       "    </tr>\n",
       "  </tbody>\n",
       "</table>\n",
       "<p>1000 rows × 12 columns</p>\n",
       "</div>"
      ],
      "text/plain": [
       "        User_ID  Product_ID  Gender  Age  Occupation  City_Category  \\\n",
       "84865   1001120          88       1    1         4.0              0   \n",
       "106204  1004352          22       1    1         4.0              1   \n",
       "77936   1006008         145       1    1         4.0              0   \n",
       "229316  1005365         249       1    1        12.0              2   \n",
       "195613  1000186         138       1    1         5.0              2   \n",
       "...         ...         ...     ...  ...         ...            ...   \n",
       "237161  1000589         186       1    1         2.0              0   \n",
       "100783  1003610           4       1    1         6.0              1   \n",
       "106348  1004378          83       1    1        17.0              1   \n",
       "160789  1000881         178       1    1        14.0              0   \n",
       "201426  1001117         332       1    1        14.0              1   \n",
       "\n",
       "        Stay_In_Current_City_Years  Marital_Status  Product_Category_1  \\\n",
       "84865                            0             1.0                 2.0   \n",
       "106204                           0             0.0                 1.0   \n",
       "77936                            4             0.0                 1.0   \n",
       "229316                           0             0.0                 6.0   \n",
       "195613                           0             0.0                 1.0   \n",
       "...                            ...             ...                 ...   \n",
       "237161                           1             0.0                 1.0   \n",
       "100783                           4             0.0                 5.0   \n",
       "106348                           4             0.0                 1.0   \n",
       "160789                           1             0.0                 1.0   \n",
       "201426                           3             0.0                 1.0   \n",
       "\n",
       "        Product_Category_2  Product_Category_3  Purchase  \n",
       "84865                  8.0                18.0   13004.0  \n",
       "106204                 2.0                 5.0   15487.0  \n",
       "77936                  2.0                 8.0   15826.0  \n",
       "229316                 8.0                13.0   12598.0  \n",
       "195613                 2.0                15.0   15708.0  \n",
       "...                    ...                 ...       ...  \n",
       "237161                 5.0                18.0   19541.0  \n",
       "100783                 8.0                14.0    5150.0  \n",
       "106348                 6.0                14.0   15221.0  \n",
       "160789                 2.0                15.0   19201.0  \n",
       "201426                 5.0                 9.0    7924.0  \n",
       "\n",
       "[1000 rows x 12 columns]"
      ]
     },
     "execution_count": 31,
     "metadata": {},
     "output_type": "execute_result"
    }
   ],
   "source": [
    "sample_size = 1000\n",
    "sample = new_data.sample(sample_size, random_state=44)\n",
    "sample"
   ]
  },
  {
   "cell_type": "code",
   "execution_count": 32,
   "id": "579a34c6",
   "metadata": {},
   "outputs": [],
   "source": [
    "#one sample t test\n",
    "from scipy.stats import ttest_1samp"
   ]
  },
  {
   "cell_type": "code",
   "execution_count": 34,
   "id": "54829712",
   "metadata": {},
   "outputs": [],
   "source": [
    "p_mean = 10000"
   ]
  },
  {
   "cell_type": "code",
   "execution_count": 35,
   "id": "25d18d10",
   "metadata": {},
   "outputs": [
    {
     "name": "stdout",
     "output_type": "stream",
     "text": [
      "12.097964910571589 1.5387861314472435e-31\n"
     ]
    }
   ],
   "source": [
    "t_stat, p_value = ttest_1samp(sample['Purchase'], p_mean)\n",
    "print(t_stat, p_value)"
   ]
  },
  {
   "cell_type": "code",
   "execution_count": null,
   "id": "81356197",
   "metadata": {},
   "outputs": [],
   "source": [
    "#p value is less than 0.05 , reject the null hypothesis.\n",
    "#Therefore, the mean purchase for men ages 18-25 is not 10000."
   ]
  },
  {
   "cell_type": "markdown",
   "id": "bd680858",
   "metadata": {},
   "source": [
    "b. It was observed that the percentage of women of the age that spend more than\n",
    "10000 was 35%. Is it still the same?"
   ]
  },
  {
   "cell_type": "code",
   "execution_count": 36,
   "id": "23e18008",
   "metadata": {},
   "outputs": [],
   "source": [
    "#NUll hypothesis  - proportion is 35%\n",
    "#Alternate hypothesis - proportion is not 35%"
   ]
  },
  {
   "cell_type": "code",
   "execution_count": 37,
   "id": "84ddcbb4",
   "metadata": {},
   "outputs": [],
   "source": [
    "data_new = data.loc[(data['Purchase']>10000)]"
   ]
  },
  {
   "cell_type": "code",
   "execution_count": 38,
   "id": "c2ad1959",
   "metadata": {},
   "outputs": [
    {
     "data": {
      "text/plain": [
       "1    39215\n",
       "0    10175\n",
       "Name: Gender, dtype: int64"
      ]
     },
     "execution_count": 38,
     "metadata": {},
     "output_type": "execute_result"
    }
   ],
   "source": [
    "##no.of women in the sample\n",
    "data_new[\"Gender\"].value_counts()"
   ]
  },
  {
   "cell_type": "code",
   "execution_count": 40,
   "id": "a3ad970b",
   "metadata": {},
   "outputs": [],
   "source": [
    "count = data_new[\"Gender\"].value_counts()[0]"
   ]
  },
  {
   "cell_type": "code",
   "execution_count": 45,
   "id": "2b3ff24c",
   "metadata": {},
   "outputs": [
    {
     "data": {
      "text/plain": [
       "1    39215\n",
       "0    10175\n",
       "Name: Gender, dtype: int64"
      ]
     },
     "execution_count": 45,
     "metadata": {},
     "output_type": "execute_result"
    }
   ],
   "source": [
    "data_new[\"Gender\"].value_counts()"
   ]
  },
  {
   "cell_type": "code",
   "execution_count": 46,
   "id": "26a71822",
   "metadata": {},
   "outputs": [
    {
     "data": {
      "text/plain": [
       "49390"
      ]
     },
     "execution_count": 46,
     "metadata": {},
     "output_type": "execute_result"
    }
   ],
   "source": [
    "nobs = len(data_new[\"Gender\"]) #male+female\n",
    "nobs"
   ]
  },
  {
   "cell_type": "code",
   "execution_count": 43,
   "id": "a8ae3099",
   "metadata": {},
   "outputs": [],
   "source": [
    "p0 = 0.35"
   ]
  },
  {
   "cell_type": "code",
   "execution_count": 44,
   "id": "a2c87697",
   "metadata": {},
   "outputs": [
    {
     "name": "stdout",
     "output_type": "stream",
     "text": [
      "-79.12020590883206 0.0\n"
     ]
    }
   ],
   "source": [
    "from statsmodels.stats.proportion import proportions_ztest\n",
    "\n",
    "z_stat, p_value = proportions_ztest(count=count,nobs=nobs, value=p0)\n",
    "print(z_stat, p_value)"
   ]
  },
  {
   "cell_type": "code",
   "execution_count": null,
   "id": "cb6adb10",
   "metadata": {},
   "outputs": [],
   "source": [
    "#p-value is less than 0.05, reject the null hypothesis i.e.., proportion is not 35%"
   ]
  },
  {
   "cell_type": "markdown",
   "id": "4d163d5e",
   "metadata": {},
   "source": [
    "c. Is the average purchase made by men and women of the age 18-25 same?"
   ]
  },
  {
   "cell_type": "code",
   "execution_count": 47,
   "id": "534579aa",
   "metadata": {},
   "outputs": [],
   "source": [
    "#null hypothesis - average spends are equal \n",
    "#alternate hypothesis - average spends are not equal\n",
    "\n",
    "data_men = data.loc[(data['Gender'] == 1)& (data['Age'] == 1)] #M & 18-25\n",
    "data_women = data.loc[(data['Gender'] == 0) & (data['Age'] == 1)] #W & 18-25"
   ]
  },
  {
   "cell_type": "code",
   "execution_count": 48,
   "id": "28de22b8",
   "metadata": {},
   "outputs": [],
   "source": [
    "#creating samples\n",
    "data_men_sample = data_men.sample(1000, random_state=0)\n",
    "data_women_sample = data_women.sample(1000, random_state=0)"
   ]
  },
  {
   "cell_type": "code",
   "execution_count": 51,
   "id": "a6c8a3c3",
   "metadata": {},
   "outputs": [
    {
     "data": {
      "text/plain": [
       "11750.447"
      ]
     },
     "execution_count": 51,
     "metadata": {},
     "output_type": "execute_result"
    }
   ],
   "source": [
    "data_men_sample['Purchase'].mean()"
   ]
  },
  {
   "cell_type": "code",
   "execution_count": 52,
   "id": "52846fa4",
   "metadata": {},
   "outputs": [
    {
     "data": {
      "text/plain": [
       "10415.935"
      ]
     },
     "execution_count": 52,
     "metadata": {},
     "output_type": "execute_result"
    }
   ],
   "source": [
    "data_women_sample['Purchase'].mean()"
   ]
  },
  {
   "cell_type": "code",
   "execution_count": 53,
   "id": "ec20a7e3",
   "metadata": {},
   "outputs": [
    {
     "data": {
      "text/plain": [
       "1.1281221512999073"
      ]
     },
     "execution_count": 53,
     "metadata": {},
     "output_type": "execute_result"
    }
   ],
   "source": [
    "#compute F statistic\n",
    "from scipy.stats import f #f-test is used to compare the variances\n",
    "F = data_men_sample.Purchase.mean()/data_women_sample.Purchase.mean()\n",
    "F"
   ]
  },
  {
   "cell_type": "code",
   "execution_count": 54,
   "id": "085b31e8",
   "metadata": {},
   "outputs": [
    {
     "data": {
      "text/plain": [
       "(1000, 12)"
      ]
     },
     "execution_count": 54,
     "metadata": {},
     "output_type": "execute_result"
    }
   ],
   "source": [
    "# data_men_sample.shape ==> 1000-1 ==> df1"
   ]
  },
  {
   "cell_type": "code",
   "execution_count": 55,
   "id": "46b14586",
   "metadata": {},
   "outputs": [
    {
     "name": "stdout",
     "output_type": "stream",
     "text": [
      "999 999\n"
     ]
    }
   ],
   "source": [
    "#calculating the degrees of freedom \n",
    "\n",
    "#Degrees of freedom is the number of independent pieces of \n",
    "#information used to calculate a statistic.\n",
    "\n",
    "df1 = len(data_men_sample) - 1\n",
    "df2 = len(data_women_sample) - 1\n",
    "\n",
    "print(df1, df2)"
   ]
  },
  {
   "cell_type": "code",
   "execution_count": 56,
   "id": "20620a0a",
   "metadata": {},
   "outputs": [
    {
     "data": {
      "text/plain": [
       "0.971553171475259"
      ]
     },
     "execution_count": 56,
     "metadata": {},
     "output_type": "execute_result"
    }
   ],
   "source": [
    "import scipy\n",
    "scipy.stats.f.cdf(F, df1, df2)"
   ]
  },
  {
   "cell_type": "code",
   "execution_count": null,
   "id": "02b1d191",
   "metadata": {},
   "outputs": [],
   "source": [
    "#the p-value is greater than 0.05, accept the null hypothesis. \n",
    "#the null hypothesis is true. The average purchases are same. "
   ]
  }
 ],
 "metadata": {
  "kernelspec": {
   "display_name": "Python 3 (ipykernel)",
   "language": "python",
   "name": "python3"
  },
  "language_info": {
   "codemirror_mode": {
    "name": "ipython",
    "version": 3
   },
   "file_extension": ".py",
   "mimetype": "text/x-python",
   "name": "python",
   "nbconvert_exporter": "python",
   "pygments_lexer": "ipython3",
   "version": "3.9.12"
  }
 },
 "nbformat": 4,
 "nbformat_minor": 5
}
