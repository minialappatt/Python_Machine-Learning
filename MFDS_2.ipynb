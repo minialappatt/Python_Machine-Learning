{
 "cells": [
  {
   "cell_type": "code",
   "execution_count": 10,
   "id": "8d11cff6",
   "metadata": {},
   "outputs": [
    {
     "name": "stderr",
     "output_type": "stream",
     "text": [
      "C:\\Users\\admin\\AppData\\Local\\Temp\\ipykernel_55752\\4038761674.py:18: RuntimeWarning: invalid value encountered in multiply\n",
      "  left_point = obj_fn(x + midpoint * direction)\n",
      "C:\\Users\\admin\\AppData\\Local\\Temp\\ipykernel_55752\\4038761674.py:19: RuntimeWarning: invalid value encountered in multiply\n",
      "  right_point = obj_fn(x + b * direction)\n",
      "C:\\Users\\admin\\AppData\\Local\\Temp\\ipykernel_55752\\4038761674.py:38: RuntimeWarning: invalid value encountered in double_scalars\n",
      "  c = b - (b - a) / phi\n",
      "C:\\Users\\admin\\AppData\\Local\\Temp\\ipykernel_55752\\4038761674.py:41: RuntimeWarning: invalid value encountered in multiply\n",
      "  if obj_fn(x + c * direction) > obj_fn(x + d * direction):\n"
     ]
    },
    {
     "ename": "ValueError",
     "evalue": "shapes (1,2) and (1,2) not aligned: 2 (dim 1) != 1 (dim 0)",
     "output_type": "error",
     "traceback": [
      "\u001b[1;31m---------------------------------------------------------------------------\u001b[0m",
      "\u001b[1;31mValueError\u001b[0m                                Traceback (most recent call last)",
      "\u001b[1;32m~\\AppData\\Local\\Temp\\ipykernel_55752\\4038761674.py\u001b[0m in \u001b[0;36m<module>\u001b[1;34m\u001b[0m\n\u001b[0;32m     67\u001b[0m \u001b[0mbisection_result\u001b[0m \u001b[1;33m=\u001b[0m \u001b[0mbisection_line_search\u001b[0m\u001b[1;33m(\u001b[0m\u001b[0mobjective_function\u001b[0m\u001b[1;33m,\u001b[0m \u001b[0minitial_x\u001b[0m\u001b[1;33m,\u001b[0m \u001b[0mdirection\u001b[0m\u001b[1;33m)\u001b[0m\u001b[1;33m\u001b[0m\u001b[1;33m\u001b[0m\u001b[0m\n\u001b[0;32m     68\u001b[0m \u001b[0mgolden_section_result\u001b[0m \u001b[1;33m=\u001b[0m \u001b[0mgolden_section_line_search\u001b[0m\u001b[1;33m(\u001b[0m\u001b[0mobjective_function\u001b[0m\u001b[1;33m,\u001b[0m \u001b[0minitial_x\u001b[0m\u001b[1;33m,\u001b[0m \u001b[0mdirection\u001b[0m\u001b[1;33m)\u001b[0m\u001b[1;33m\u001b[0m\u001b[1;33m\u001b[0m\u001b[0m\n\u001b[1;32m---> 69\u001b[1;33m \u001b[0marmijo_result\u001b[0m \u001b[1;33m=\u001b[0m \u001b[0marmijo_line_search\u001b[0m\u001b[1;33m(\u001b[0m\u001b[0mobjective_function\u001b[0m\u001b[1;33m,\u001b[0m \u001b[0mgradient\u001b[0m\u001b[1;33m,\u001b[0m \u001b[0minitial_x\u001b[0m\u001b[1;33m,\u001b[0m \u001b[0mdirection\u001b[0m\u001b[1;33m)\u001b[0m\u001b[1;33m\u001b[0m\u001b[1;33m\u001b[0m\u001b[0m\n\u001b[0m\u001b[0;32m     70\u001b[0m \u001b[1;33m\u001b[0m\u001b[0m\n\u001b[0;32m     71\u001b[0m \u001b[0mprint\u001b[0m\u001b[1;33m(\u001b[0m\u001b[1;34m\"Bisection Line Search Result:\"\u001b[0m\u001b[1;33m,\u001b[0m \u001b[0mbisection_result\u001b[0m\u001b[1;33m)\u001b[0m\u001b[1;33m\u001b[0m\u001b[1;33m\u001b[0m\u001b[0m\n",
      "\u001b[1;32m~\\AppData\\Local\\Temp\\ipykernel_55752\\4038761674.py\u001b[0m in \u001b[0;36marmijo_line_search\u001b[1;34m(obj_fn, gradient_fn, x, direction, alpha, beta, max_iterations)\u001b[0m\n\u001b[0;32m     54\u001b[0m \u001b[1;33m\u001b[0m\u001b[0m\n\u001b[0;32m     55\u001b[0m     \u001b[1;32mfor\u001b[0m \u001b[0m_\u001b[0m \u001b[1;32min\u001b[0m \u001b[0mrange\u001b[0m\u001b[1;33m(\u001b[0m\u001b[0mmax_iterations\u001b[0m\u001b[1;33m)\u001b[0m\u001b[1;33m:\u001b[0m\u001b[1;33m\u001b[0m\u001b[1;33m\u001b[0m\u001b[0m\n\u001b[1;32m---> 56\u001b[1;33m         \u001b[1;32mif\u001b[0m \u001b[0mobj_fn\u001b[0m\u001b[1;33m(\u001b[0m\u001b[0mx\u001b[0m \u001b[1;33m+\u001b[0m \u001b[0mt\u001b[0m \u001b[1;33m*\u001b[0m \u001b[0mdirection\u001b[0m\u001b[1;33m)\u001b[0m \u001b[1;33m<=\u001b[0m \u001b[0mobj_fn\u001b[0m\u001b[1;33m(\u001b[0m\u001b[0mx\u001b[0m\u001b[1;33m)\u001b[0m \u001b[1;33m+\u001b[0m \u001b[0malpha\u001b[0m \u001b[1;33m*\u001b[0m \u001b[0mt\u001b[0m \u001b[1;33m*\u001b[0m \u001b[0mnp\u001b[0m\u001b[1;33m.\u001b[0m\u001b[0mdot\u001b[0m\u001b[1;33m(\u001b[0m\u001b[0mgradient_fn\u001b[0m\u001b[1;33m(\u001b[0m\u001b[0mx\u001b[0m\u001b[1;33m)\u001b[0m\u001b[1;33m,\u001b[0m \u001b[0mdirection\u001b[0m\u001b[1;33m)\u001b[0m\u001b[1;33m:\u001b[0m\u001b[1;33m\u001b[0m\u001b[1;33m\u001b[0m\u001b[0m\n\u001b[0m\u001b[0;32m     57\u001b[0m             \u001b[1;32mbreak\u001b[0m\u001b[1;33m\u001b[0m\u001b[1;33m\u001b[0m\u001b[0m\n\u001b[0;32m     58\u001b[0m         \u001b[0mt\u001b[0m \u001b[1;33m*=\u001b[0m \u001b[0mbeta\u001b[0m\u001b[1;33m\u001b[0m\u001b[1;33m\u001b[0m\u001b[0m\n",
      "\u001b[1;32m<__array_function__ internals>\u001b[0m in \u001b[0;36mdot\u001b[1;34m(*args, **kwargs)\u001b[0m\n",
      "\u001b[1;31mValueError\u001b[0m: shapes (1,2) and (1,2) not aligned: 2 (dim 1) != 1 (dim 0)"
     ]
    }
   ],
   "source": [
    "import numpy as np\n",
    "\n",
    "# Define the objective function (replace this with your actual loss function)\n",
    "def objective_function(x):\n",
    "    return np.sum(x**2)  # Example quadratic function\n",
    "\n",
    "# Define the gradient of the objective function (replace this with your actual gradient)\n",
    "def gradient(x):\n",
    "    return 2 * x\n",
    "\n",
    "# Bisection Line Search\n",
    "def bisection_line_search(obj_fn, x, direction, alpha=0.01, beta=0.9, max_iterations=100):\n",
    "    a = 0\n",
    "    b = np.inf\n",
    "\n",
    "    for _ in range(max_iterations):\n",
    "        midpoint = (a + b) / 2\n",
    "        left_point = obj_fn(x + midpoint * direction)\n",
    "        right_point = obj_fn(x + b * direction)\n",
    "        \n",
    "        if left_point > right_point:\n",
    "            a = midpoint\n",
    "        else:\n",
    "            b = b * beta\n",
    "        \n",
    "        if (b - a) < alpha:\n",
    "            break\n",
    "    \n",
    "    return (a + b) / 2\n",
    "\n",
    "# Golden Section Line Search\n",
    "def golden_section_line_search(obj_fn, x, direction, alpha=0.01, max_iterations=100):\n",
    "    phi = (1 + np.sqrt(5)) / 2\n",
    "    a = 0\n",
    "    b = np.inf\n",
    "\n",
    "    for _ in range(max_iterations):\n",
    "        c = b - (b - a) / phi\n",
    "        d = a + (b - a) / phi\n",
    "\n",
    "        if obj_fn(x + c * direction) > obj_fn(x + d * direction):\n",
    "            a = c\n",
    "        else:\n",
    "            b = d\n",
    "        \n",
    "        if (b - a) < alpha:\n",
    "            break\n",
    "    \n",
    "    return (a + b) / 2\n",
    "\n",
    "# Armijo Rule Line Search\n",
    "def armijo_line_search(obj_fn, gradient_fn, x, direction, alpha=0.01, beta=0.5, max_iterations=100):\n",
    "    t = 1.0\n",
    "\n",
    "    for _ in range(max_iterations):\n",
    "        if obj_fn(x + t * direction) <= obj_fn(x) + alpha * t * np.dot(gradient_fn(x), direction):\n",
    "            break\n",
    "        t *= beta\n",
    "    \n",
    "    return t\n",
    "\n",
    "# Initial point\n",
    "initial_x = np.zeros([1,2], )  # Initialize with zeros\n",
    "direction = -gradient(initial_x)\n",
    "\n",
    "# Perform line search using each method\n",
    "bisection_result = bisection_line_search(objective_function, initial_x, direction)\n",
    "golden_section_result = golden_section_line_search(objective_function, initial_x, direction)\n",
    "armijo_result = armijo_line_search(objective_function, gradient, initial_x, direction)\n",
    "\n",
    "print(\"Bisection Line Search Result:\", bisection_result)\n",
    "print(\"Golden Section Line Search Result:\", golden_section_result)\n",
    "print(\"Armijo Line Search Result:\", armijo_result)\n"
   ]
  },
  {
   "cell_type": "code",
   "execution_count": 4,
   "id": "1cd4c6ca",
   "metadata": {},
   "outputs": [
    {
     "name": "stdout",
     "output_type": "stream",
     "text": [
      "Matrix b : \n",
      " [0 0]\n",
      "\n",
      "Matrix a : \n",
      " [[0 0]\n",
      " [0 0]]\n",
      "\n",
      "Matrix c : \n",
      " [[0. 0. 0.]\n",
      " [0. 0. 0.]\n",
      " [0. 0. 0.]]\n"
     ]
    }
   ],
   "source": [
    "import numpy as geek\n",
    " \n",
    "b = geek.zeros(2, dtype = int)\n",
    "print(\"Matrix b : \\n\", b)\n",
    " \n",
    "a = geek.zeros([2, 2], dtype = int)\n",
    "print(\"\\nMatrix a : \\n\", a)\n",
    " \n",
    "c = geek.zeros([3, 3])\n",
    "print(\"\\nMatrix c : \\n\", c)"
   ]
  },
  {
   "cell_type": "code",
   "execution_count": null,
   "id": "38aa8417",
   "metadata": {},
   "outputs": [],
   "source": []
  }
 ],
 "metadata": {
  "kernelspec": {
   "display_name": "Python 3 (ipykernel)",
   "language": "python",
   "name": "python3"
  },
  "language_info": {
   "codemirror_mode": {
    "name": "ipython",
    "version": 3
   },
   "file_extension": ".py",
   "mimetype": "text/x-python",
   "name": "python",
   "nbconvert_exporter": "python",
   "pygments_lexer": "ipython3",
   "version": "3.9.13"
  }
 },
 "nbformat": 4,
 "nbformat_minor": 5
}
