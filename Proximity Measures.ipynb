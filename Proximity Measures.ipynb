{
 "cells": [
  {
   "cell_type": "markdown",
   "id": "c79f9e01",
   "metadata": {},
   "source": [
    "# Euclidean Distance"
   ]
  },
  {
   "cell_type": "code",
   "execution_count": 47,
   "id": "88729f37",
   "metadata": {},
   "outputs": [
    {
     "name": "stdout",
     "output_type": "stream",
     "text": [
      "Euclidean Similarity: 0.16139047779640892\n",
      "Euclidean Dissimilarity: 5.196152422706632\n"
     ]
    }
   ],
   "source": [
    "import numpy as np\n",
    "\n",
    "# Example vectors\n",
    "x = np.array([1, 2, 3])\n",
    "y = np.array([4, 5, 6])\n",
    "\n",
    "# Similarity Measure\n",
    "euclidean_similarity = 1 / (1 + np.linalg.norm(x - y))\n",
    "\n",
    "# Dissimilarity Measure\n",
    "euclidean_dissimilarity = np.linalg.norm(x - y)\n",
    "\n",
    "print(\"Euclidean Similarity:\", euclidean_similarity)\n",
    "print(\"Euclidean Dissimilarity:\", euclidean_dissimilarity)"
   ]
  },
  {
   "cell_type": "code",
   "execution_count": 48,
   "id": "0a4c98f8",
   "metadata": {},
   "outputs": [
    {
     "data": {
      "image/png": "[encoded data removed]",
      "text/plain": [
       "<Figure size 432x288 with 2 Axes>"
      ]
     },
     "metadata": {
      "needs_background": "light"
     },
     "output_type": "display_data"
    }
   ],
   "source": [
    "import numpy as np\n",
    "from scipy.spatial.distance import pdist, squareform\n",
    "import matplotlib.pyplot as plt\n",
    "\n",
    "# Example data\n",
    "data = np.array([\n",
    "    [1, 2, 3],\n",
    "    [4, 5, 6],\n",
    "    [7, 8, 9],\n",
    "    [10, 11, 12]\n",
    "])\n",
    "\n",
    "# Compute pairwise Euclidean distances\n",
    "distances = pdist(data, metric='euclidean')\n",
    "\n",
    "# Convert to square dissimilarity matrix\n",
    "dissimilarity_matrix = squareform(distances)\n",
    "\n",
    "# Display the dissimilarity matrix\n",
    "plt.imshow(dissimilarity_matrix, cmap='viridis', interpolation='nearest')\n",
    "plt.colorbar(label='Euclidean Distance')\n",
    "plt.title('Euclidean Distance Dissimilarity Matrix')\n",
    "plt.show()\n"
   ]
  },
  {
   "cell_type": "code",
   "execution_count": 49,
   "id": "bb3ee1b7",
   "metadata": {},
   "outputs": [
    {
     "name": "stdout",
     "output_type": "stream",
     "text": [
      "Euclidean Distance Dissimilarity Matrix:\n",
      "╒═════════╤═════════╤═════════╤═════════╕\n",
      "│   Row 1 │   Row 2 │   Row 3 │   Row 4 │\n",
      "╞═════════╪═════════╪═════════╪═════════╡\n",
      "│    0.00 │    5.20 │   10.39 │   15.59 │\n",
      "├─────────┼─────────┼─────────┼─────────┤\n",
      "│    5.20 │    0.00 │    5.20 │   10.39 │\n",
      "├─────────┼─────────┼─────────┼─────────┤\n",
      "│   10.39 │    5.20 │    0.00 │    5.20 │\n",
      "├─────────┼─────────┼─────────┼─────────┤\n",
      "│   15.59 │   10.39 │    5.20 │    0.00 │\n",
      "╘═════════╧═════════╧═════════╧═════════╛\n"
     ]
    }
   ],
   "source": [
    "import numpy as np\n",
    "from scipy.spatial.distance import pdist, squareform\n",
    "from tabulate import tabulate\n",
    "\n",
    "# Example data\n",
    "data = np.array([\n",
    "    [1, 2, 3],\n",
    "    [4, 5, 6],\n",
    "    [7, 8, 9],\n",
    "    [10, 11, 12]\n",
    "])\n",
    "\n",
    "# Compute pairwise Euclidean distances\n",
    "distances = pdist(data, metric='euclidean')\n",
    "\n",
    "# Convert to square dissimilarity matrix\n",
    "dissimilarity_matrix = squareform(distances)\n",
    "\n",
    "# Display the dissimilarity matrix in table format\n",
    "headers = [f'Row {i+1}' for i in range(len(dissimilarity_matrix))]\n",
    "table = tabulate(dissimilarity_matrix, headers, tablefmt='fancy_grid', floatfmt=\".2f\")\n",
    "\n",
    "print(\"Euclidean Distance Dissimilarity Matrix:\")\n",
    "print(table)"
   ]
  },
  {
   "cell_type": "markdown",
   "id": "873ca28e",
   "metadata": {},
   "source": [
    "# Manhattan Distance"
   ]
  },
  {
   "cell_type": "code",
   "execution_count": 50,
   "id": "79e35bc4",
   "metadata": {},
   "outputs": [
    {
     "name": "stdout",
     "output_type": "stream",
     "text": [
      "Manhattan Similarity: 0.1\n",
      "Manhattan Dissimilarity: 9\n"
     ]
    }
   ],
   "source": [
    "import numpy as np\n",
    "\n",
    "# Example vectors\n",
    "x = np.array([1, 2, 3])\n",
    "y = np.array([4, 5, 6])\n",
    "\n",
    "# Similarity Measure\n",
    "manhattan_similarity = 1 / (1 + np.sum(np.abs(x - y)))\n",
    "\n",
    "# Dissimilarity Measure\n",
    "manhattan_dissimilarity = np.sum(np.abs(x - y))\n",
    "\n",
    "print(\"Manhattan Similarity:\", manhattan_similarity)\n",
    "print(\"Manhattan Dissimilarity:\", manhattan_dissimilarity)"
   ]
  },
  {
   "cell_type": "code",
   "execution_count": 51,
   "id": "73cc414e",
   "metadata": {
    "scrolled": true
   },
   "outputs": [
    {
     "name": "stdout",
     "output_type": "stream",
     "text": [
      "Manhattan Distance Dissimilarity Matrix:\n",
      "╒═════════╤═════════╤═════════╤═════════╕\n",
      "│   Row 1 │   Row 2 │   Row 3 │   Row 4 │\n",
      "╞═════════╪═════════╪═════════╪═════════╡\n",
      "│    0.00 │    9.00 │   18.00 │   27.00 │\n",
      "├─────────┼─────────┼─────────┼─────────┤\n",
      "│    9.00 │    0.00 │    9.00 │   18.00 │\n",
      "├─────────┼─────────┼─────────┼─────────┤\n",
      "│   18.00 │    9.00 │    0.00 │    9.00 │\n",
      "├─────────┼─────────┼─────────┼─────────┤\n",
      "│   27.00 │   18.00 │    9.00 │    0.00 │\n",
      "╘═════════╧═════════╧═════════╧═════════╛\n"
     ]
    }
   ],
   "source": [
    "import numpy as np\n",
    "from scipy.spatial.distance import pdist, squareform\n",
    "from tabulate import tabulate\n",
    "\n",
    "# Example data\n",
    "data = np.array([\n",
    "    [1, 2, 3],\n",
    "    [4, 5, 6],\n",
    "    [7, 8, 9],\n",
    "    [10, 11, 12]\n",
    "])\n",
    "\n",
    "# Compute pairwise Manhattan distances\n",
    "distances_manhattan = pdist(data, metric='cityblock')  # Cityblock is equivalent to Manhattan distance\n",
    "\n",
    "# Convert to square dissimilarity matrix\n",
    "dissimilarity_matrix_manhattan = squareform(distances_manhattan)\n",
    "\n",
    "# Display the dissimilarity matrix for Manhattan distance in table format\n",
    "headers = [f'Row {i+1}' for i in range(len(dissimilarity_matrix_manhattan))]\n",
    "table_manhattan = tabulate(dissimilarity_matrix_manhattan, headers, tablefmt='fancy_grid', floatfmt=\".2f\")\n",
    "\n",
    "print(\"Manhattan Distance Dissimilarity Matrix:\")\n",
    "print(table_manhattan)\n"
   ]
  },
  {
   "cell_type": "code",
   "execution_count": 61,
   "id": "1b188038",
   "metadata": {},
   "outputs": [
    {
     "name": "stdout",
     "output_type": "stream",
     "text": [
      "Similarities among the persons: \n",
      "Jack and Jim :  0.3333333333333333\n",
      "Jack and Mary :  0.5\n",
      "Jim and Mary :  0.25\n"
     ]
    }
   ],
   "source": [
    "# Relational Table Where Patients Are Described by Binary Attributes\n",
    "# name gender fever cough test-1 test-2 test-3 test-4\n",
    "# Jack  M      Y     N     P      N      N      N\n",
    "# Jim   M      Y     Y     N      N      N      N\n",
    "# Mary  F      Y     N     P      N      P      N\n",
    "\n",
    "\n",
    "# Taking Y as 1 and N as 0\n",
    "# Taking positive as 1 and Negative as 0\n",
    "\n",
    "def manhattan_distance(l1, l2):\n",
    "    distance = 0\n",
    "    for i in range(len(l1)):\n",
    "        distance += abs(l1[i] - l2[i])\n",
    "    return distance\n",
    "\n",
    "Jack = ['M','Y','N','P','N','N','N']\n",
    "Jim = ['M','Y','Y','N','N','N','N']\n",
    "Mary = ['F','Y','N','P','N','P','N']\n",
    "Jack_l, Jim_l, Mary_l = convert_to_binary(Jack, ['Y', 'P'], ['N']), convert_to_binary(Jim, ['Y', 'P'], ['N']), convert_to_binary(Mary, ['Y', 'P'], ['N'])\n",
    "\n",
    "print(\"Similarities among the persons: \")\n",
    "print(\"Jack and Jim : \", 1 / (1 + manhattan_distance(Jack_l, Jim_l)))\n",
    "print(\"Jack and Mary : \", 1 / (1 + manhattan_distance(Jack_l, Mary_l)))\n",
    "print(\"Jim and Mary : \", 1 / (1 + manhattan_distance(Jim_l, Mary_l)))\n"
   ]
  },
  {
   "cell_type": "markdown",
   "id": "78ceff8b",
   "metadata": {},
   "source": [
    "# Cosine Similarity"
   ]
  },
  {
   "cell_type": "code",
   "execution_count": 52,
   "id": "8ea42129",
   "metadata": {},
   "outputs": [
    {
     "name": "stdout",
     "output_type": "stream",
     "text": [
      "Cosine Similarity: 0.0253681538029239\n",
      "Cosine Dissimilarity: 0.9746318461970761\n"
     ]
    }
   ],
   "source": [
    "import numpy as np\n",
    "from scipy.spatial.distance import cosine\n",
    "\n",
    "# Example vectors\n",
    "x = np.array([1, 2, 3])\n",
    "y = np.array([4, 5, 6])\n",
    "\n",
    "# Similarity Measure\n",
    "cosine_similarity = cosine(x, y)\n",
    "\n",
    "# Dissimilarity Measure\n",
    "cosine_dissimilarity = 1 - cosine_similarity\n",
    "\n",
    "print(\"Cosine Similarity:\", cosine_similarity)\n",
    "print(\"Cosine Dissimilarity:\", cosine_dissimilarity)"
   ]
  },
  {
   "cell_type": "code",
   "execution_count": 53,
   "id": "b64fa529",
   "metadata": {},
   "outputs": [
    {
     "name": "stdout",
     "output_type": "stream",
     "text": [
      "Cosine Similarity Matrix:\n",
      "╒═════════╤═════════╤═════════╤═════════╕\n",
      "│   Row 1 │   Row 2 │   Row 3 │   Row 4 │\n",
      "╞═════════╪═════════╪═════════╪═════════╡\n",
      "│    1.00 │    0.97 │    0.96 │    0.95 │\n",
      "├─────────┼─────────┼─────────┼─────────┤\n",
      "│    0.97 │    1.00 │    1.00 │    1.00 │\n",
      "├─────────┼─────────┼─────────┼─────────┤\n",
      "│    0.96 │    1.00 │    1.00 │    1.00 │\n",
      "├─────────┼─────────┼─────────┼─────────┤\n",
      "│    0.95 │    1.00 │    1.00 │    1.00 │\n",
      "╘═════════╧═════════╧═════════╧═════════╛\n"
     ]
    }
   ],
   "source": [
    "import numpy as np\n",
    "from sklearn.metrics.pairwise import cosine_similarity\n",
    "from tabulate import tabulate\n",
    "\n",
    "# Example data\n",
    "data = np.array([\n",
    "    [1, 2, 3],\n",
    "    [4, 5, 6],\n",
    "    [7, 8, 9],\n",
    "    [10, 11, 12]\n",
    "])\n",
    "\n",
    "# Compute cosine similarity\n",
    "similarity_matrix = cosine_similarity(data)\n",
    "\n",
    "# Display the similarity matrix using cosine similarity in table format\n",
    "headers = [f'Row {i+1}' for i in range(len(similarity_matrix))]\n",
    "table_cosine = tabulate(similarity_matrix, headers, tablefmt='fancy_grid', floatfmt=\".2f\")\n",
    "\n",
    "print(\"Cosine Similarity Matrix:\")\n",
    "print(table_cosine)\n"
   ]
  },
  {
   "cell_type": "code",
   "execution_count": 54,
   "id": "93c134f3",
   "metadata": {},
   "outputs": [
    {
     "name": "stdout",
     "output_type": "stream",
     "text": [
      "Similarities among the documents in terms of frquencies of words given: \n",
      "Doc1 , Doc2 :  0.94\n",
      "Doc1 , Doc3 :  0.16\n",
      "Doc3 , Doc2 :  0.12\n",
      "Doc1 , Doc4 :  0.07\n",
      "Doc4 , Doc2 :  0.17\n",
      "Doc3 , Doc4 :  0.23\n"
     ]
    }
   ],
   "source": [
    "# data =\n",
    "# {\n",
    "# Document team coach hockey baseball soccer penalty score win loss season\n",
    "# Document1 5 0 3 0 2 0 0 2 0 0\n",
    "# Document2 3 0 2 0 1 1 0 1 0 1\n",
    "# Document3 0 7 0 2 1 0 0 3 0 0\n",
    "# Document4 0 1 0 0 1 2 2 0 3 0\n",
    "# }\n",
    "\n",
    "def cosine_similarity(l1,l2):\n",
    "    norm_l1 = 0\n",
    "    norm_l2 = 0\n",
    "    for i in range(len(l1)):\n",
    "        norm_l1 += (l1[i]**2)\n",
    "        norm_l2 += (l2[i]**2)\n",
    "    norm_l1 = norm_l1**0.5\n",
    "    norm_l2 = norm_l2**0.5\n",
    "\n",
    "    s = 0\n",
    "    for i in range(len(l1)):\n",
    "        s+=l1[i]*l2[i]\n",
    "    return s/(norm_l1*norm_l2)\n",
    "print(\"Similarities among the documents in terms of frquencies of words given: \")\n",
    "print(\"Doc1 , Doc2 : \" ,round(cosine_similarity(list(map(int,\"5 0 3 0 2 0 0 2 0 0\".split(\" \"))),list(map(int,\"3 0 2 0 1 1 0 1 0 1\".split(\" \")))),2))\n",
    "print(\"Doc1 , Doc3 : \" ,round(cosine_similarity(list(map(int,\"5 0 3 0 2 0 0 2 0 0\".split(\" \"))),list(map(int,\"0 7 0 2 1 0 0 3 0 0\".split(\" \")))),2))\n",
    "print(\"Doc3 , Doc2 : \" ,round(cosine_similarity(list(map(int,\"0 7 0 2 1 0 0 3 0 0\".split(\" \"))),list(map(int,\"3 0 2 0 1 1 0 1 0 1\".split(\" \")))),2))\n",
    "print(\"Doc1 , Doc4 : \" ,round(cosine_similarity(list(map(int,\"5 0 3 0 2 0 0 2 0 0\".split(\" \"))),list(map(int,\"0 1 0 0 1 2 2 0 3 0\".split(\" \")))),2))\n",
    "print(\"Doc4 , Doc2 : \" ,round(cosine_similarity(list(map(int,\"0 1 0 0 1 2 2 0 3 0\".split(\" \"))),list(map(int,\"3 0 2 0 1 1 0 1 0 1\".split(\" \")))),2))\n",
    "print(\"Doc3 , Doc4 : \" ,round(cosine_similarity(list(map(int,\"0 7 0 2 1 0 0 3 0 0\".split(\" \"))),list(map(int,\"0 1 0 0 1 2 2 0 3 0\".split(\" \")))),2))"
   ]
  },
  {
   "cell_type": "markdown",
   "id": "a4b9d667",
   "metadata": {},
   "source": [
    "# Jaccard"
   ]
  },
  {
   "cell_type": "code",
   "execution_count": 55,
   "id": "f0b39a4a",
   "metadata": {},
   "outputs": [
    {
     "name": "stdout",
     "output_type": "stream",
     "text": [
      "Jaccard Similarity: 0.16666666666666666\n",
      "Jaccard Dissimilarity: 0.8333333333333334\n"
     ]
    }
   ],
   "source": [
    "from scipy.spatial.distance import jaccard\n",
    "\n",
    "# Example sets\n",
    "x_set = {1, 2, 3, 4}\n",
    "y_set = {5, 3, 8}\n",
    "\n",
    "# Similarity Measure\n",
    "jaccard_similarity = len(x_set.intersection(y_set)) / len(x_set.union(y_set))\n",
    "\n",
    "# Dissimilarity Measure\n",
    "jaccard_dissimilarity = 1 - jaccard_similarity\n",
    "\n",
    "print(\"Jaccard Similarity:\", jaccard_similarity)\n",
    "print(\"Jaccard Dissimilarity:\", jaccard_dissimilarity)"
   ]
  },
  {
   "cell_type": "code",
   "execution_count": 56,
   "id": "3037df6e",
   "metadata": {},
   "outputs": [
    {
     "name": "stdout",
     "output_type": "stream",
     "text": [
      "Jaccard Similarity Matrix:\n",
      "╒═════════╤═════════╤═════════╤═════════╕\n",
      "│   Row 1 │   Row 2 │   Row 3 │   Row 4 │\n",
      "╞═════════╪═════════╪═════════╪═════════╡\n",
      "│    1.00 │    0.25 │    0.50 │    0.67 │\n",
      "├─────────┼─────────┼─────────┼─────────┤\n",
      "│    0.25 │    1.00 │    0.25 │    0.33 │\n",
      "├─────────┼─────────┼─────────┼─────────┤\n",
      "│    0.50 │    0.25 │    1.00 │    0.25 │\n",
      "├─────────┼─────────┼─────────┼─────────┤\n",
      "│    0.67 │    0.33 │    0.25 │    1.00 │\n",
      "╘═════════╧═════════╧═════════╧═════════╛\n"
     ]
    }
   ],
   "source": [
    "import numpy as np\n",
    "from sklearn.metrics import jaccard_score\n",
    "from tabulate import tabulate\n",
    "\n",
    "# Example binary data\n",
    "data = np.array([\n",
    "    [1, 0, 1, 1],\n",
    "    [0, 1, 1, 0],\n",
    "    [1, 1, 0, 1],\n",
    "    [0, 0, 1, 1]\n",
    "])\n",
    "\n",
    "# Compute Jaccard similarity\n",
    "similarity_matrix = np.zeros((data.shape[0], data.shape[0]))\n",
    "for i in range(data.shape[0]):\n",
    "    for j in range(data.shape[0]):\n",
    "        similarity_matrix[i, j] = jaccard_score(data[i], data[j])\n",
    "\n",
    "# Display the similarity matrix using Jaccard similarity in table format\n",
    "headers = [f'Row {i+1}' for i in range(len(similarity_matrix))]\n",
    "table_jaccard = tabulate(similarity_matrix, headers, tablefmt='fancy_grid', floatfmt=\".2f\")\n",
    "\n",
    "print(\"Jaccard Similarity Matrix:\")\n",
    "print(table_jaccard)\n"
   ]
  },
  {
   "cell_type": "code",
   "execution_count": 57,
   "id": "7e27e229",
   "metadata": {},
   "outputs": [
    {
     "name": "stdout",
     "output_type": "stream",
     "text": [
      "Similarities among the persons: \n",
      "Jack and Jim :  0.33\n",
      "Jack and Mary :  0.67\n",
      "Jim and Mary :  0.25\n"
     ]
    }
   ],
   "source": [
    "# Relational Table Where Patients Are Described by Binary Attributes\n",
    "# name gender fever cough test-1 test-2 test-3 test-4\n",
    "# Jack  M      Y     N     P      N      N      N\n",
    "# Jim   M      Y     Y     N      N      N      N\n",
    "# Mary  F      Y     N     P      N      P      N\n",
    "\n",
    "\n",
    "# Taking Y as 1 and N as 0\n",
    "# Taking positive as 1 and Negative as 0\n",
    "def convert_to_binary(l1,l2,l3):\n",
    "    l4=[]\n",
    "    for i in l1:\n",
    "        if i in l2:l4.append(1)\n",
    "        elif i in l3:l4.append(0)\n",
    "    return l4\n",
    "def jaccard_coef(l1,l2):\n",
    "    f11,f01,f10 = 0,0,0\n",
    "    for i in range(len(l1)):\n",
    "        if l1[i]==1 and l2[i] == 1:f11+=1\n",
    "        elif l1[i]==1 and l2[i] == 0:f10+=1\n",
    "        elif l1[i]==0 and l2[i] == 1:f01+=1\n",
    "    return round(f11/(f01+f10+f11),2)\n",
    "\n",
    "Jack = ['M','Y','N','P','N','N','N']\n",
    "Jim = ['M','Y','Y','N','N','N','N']\n",
    "Mary = ['F','Y','N','P','N','P','N']\n",
    "Jack_l,Jim_l,Mary_l = convert_to_binary(Jack,['Y','P'],['N']),convert_to_binary(Jim,['Y','P'],['N']),convert_to_binary(Mary,['Y','P'],['N'])\n",
    "\n",
    "print(\"Similarities among the persons: \")\n",
    "print(\"Jack and Jim : \",jaccard_coef(Jack_l,Jim_l))\n",
    "print(\"Jack and Mary : \",jaccard_coef(Jack_l,Mary_l))\n",
    "print(\"Jim and Mary : \",jaccard_coef(Jim_l,Mary_l))"
   ]
  },
  {
   "cell_type": "markdown",
   "id": "96c474ba",
   "metadata": {},
   "source": [
    "# Minkowski Distance"
   ]
  },
  {
   "cell_type": "code",
   "execution_count": 58,
   "id": "b24472d3",
   "metadata": {},
   "outputs": [
    {
     "name": "stdout",
     "output_type": "stream",
     "text": [
      "Minkowski Distance (p=2): 11.180339887498949\n",
      "Minkowski Distance (p=3): 8.549879733383484\n"
     ]
    }
   ],
   "source": [
    "from scipy.spatial.distance import minkowski\n",
    "\n",
    "# Example points\n",
    "point1 = [1, 2, 3, 4, 5]\n",
    "point2 = [6, 7, 8, 9, 10]\n",
    "\n",
    "# Calculate Minkowski distance with parameter r = 2 (Euclidean distance)\n",
    "distance_p2 = minkowski(point1, point2, p=2)\n",
    "\n",
    "# Calculate Minkowski distance with parameter r = 3\n",
    "distance_p3 = minkowski(point1, point2, p=3)\n",
    "\n",
    "print(\"Minkowski Distance (p=2):\", distance_p2)\n",
    "print(\"Minkowski Distance (p=3):\", distance_p3)"
   ]
  },
  {
   "cell_type": "code",
   "execution_count": 59,
   "id": "3bb93851",
   "metadata": {},
   "outputs": [
    {
     "name": "stdout",
     "output_type": "stream",
     "text": [
      "Minkowski Distance (Power 2) Dissimilarity Matrix:\n",
      "╒═════════╤═════════╤═════════╤═════════╕\n",
      "│   Row 1 │   Row 2 │   Row 3 │   Row 4 │\n",
      "╞═════════╪═════════╪═════════╪═════════╡\n",
      "│    0.00 │    5.20 │   10.39 │   15.59 │\n",
      "├─────────┼─────────┼─────────┼─────────┤\n",
      "│    5.20 │    0.00 │    5.20 │   10.39 │\n",
      "├─────────┼─────────┼─────────┼─────────┤\n",
      "│   10.39 │    5.20 │    0.00 │    5.20 │\n",
      "├─────────┼─────────┼─────────┼─────────┤\n",
      "│   15.59 │   10.39 │    5.20 │    0.00 │\n",
      "╘═════════╧═════════╧═════════╧═════════╛\n"
     ]
    }
   ],
   "source": [
    "import numpy as np\n",
    "from scipy.spatial.distance import pdist, squareform\n",
    "from tabulate import tabulate\n",
    "\n",
    "# Example data\n",
    "data = np.array([\n",
    "    [1, 2, 3],\n",
    "    [4, 5, 6],\n",
    "    [7, 8, 9],\n",
    "    [10, 11, 12]\n",
    "])\n",
    "\n",
    "# Set the power for Minkowski distance (2 for Euclidean distance, 1 for Manhattan distance)\n",
    "minkowski_power = 2\n",
    "\n",
    "# Compute pairwise Minkowski distances\n",
    "distances_minkowski = pdist(data, metric='minkowski', p=minkowski_power)\n",
    "\n",
    "# Convert to square dissimilarity matrix\n",
    "dissimilarity_matrix_minkowski = squareform(distances_minkowski)\n",
    "\n",
    "# Display the dissimilarity matrix using Minkowski distance in table format\n",
    "headers = [f'Row {i+1}' for i in range(len(dissimilarity_matrix_minkowski))]\n",
    "table_minkowski = tabulate(dissimilarity_matrix_minkowski, headers, tablefmt='fancy_grid', floatfmt=\".2f\")\n",
    "\n",
    "print(f\"Minkowski Distance (Power {minkowski_power}) Dissimilarity Matrix:\")\n",
    "print(table_minkowski)"
   ]
  },
  {
   "cell_type": "markdown",
   "id": "ac6e97db",
   "metadata": {},
   "source": [
    "# Gower distance"
   ]
  },
  {
   "cell_type": "code",
   "execution_count": 60,
   "id": "5060d13d",
   "metadata": {},
   "outputs": [
    {
     "name": "stdout",
     "output_type": "stream",
     "text": [
      "Dissimilarity Matrix:\n",
      "          0         1         2         3         4\n",
      "0  0.000000  1.000000  1.666667  2.000000  3.000000\n",
      "1  1.000000  0.000000  1.000000  1.666667  2.000000\n",
      "2  1.666667  1.000000  0.000000  1.000000  1.666667\n",
      "3  2.000000  1.666667  1.000000  0.000000  1.000000\n",
      "4  3.000000  2.000000  1.666667  1.000000  0.000000\n"
     ]
    }
   ],
   "source": [
    "import pandas as pd\n",
    "import numpy as np\n",
    "from sklearn.metrics import pairwise_distances\n",
    "\n",
    "# Example dataset (replace this with your dataset)\n",
    "data = {\n",
    "    'Feature1': [1, 2, 3, 4, 5],\n",
    "    'Feature2': ['A', 'B', 'C', 'A', 'B'],\n",
    "    'Feature3': [3, 4, 5, 6, 7]\n",
    "}\n",
    "\n",
    "# Create a DataFrame\n",
    "df = pd.DataFrame(data)\n",
    "\n",
    "# Function to compute Gower distance\n",
    "def gower_distance(X):\n",
    "    n, m = X.shape\n",
    "    dm = np.zeros((n, n))\n",
    "\n",
    "    for i in range(n):\n",
    "        for j in range(i+1, n):\n",
    "            d = 0\n",
    "            for k in range(m):\n",
    "                if pd.api.types.is_numeric_dtype(X.iloc[:, k]):\n",
    "                    d += abs(X.iloc[i, k] - X.iloc[j, k])\n",
    "                elif pd.api.types.is_string_dtype(X.iloc[:, k]):\n",
    "                    d += int(X.iloc[i, k] != X.iloc[j, k])\n",
    "            dm[i, j] = dm[j, i] = d / m\n",
    "\n",
    "    return dm\n",
    "\n",
    "# Compute the dissimilarity matrix using Gower distance\n",
    "dissimilarity_matrix = gower_distance(df)\n",
    "\n",
    "# Convert the dissimilarity matrix to a pandas DataFrame\n",
    "dissimilarity_df = pd.DataFrame(dissimilarity_matrix, index=df.index, columns=df.index)\n",
    "\n",
    "# Print the dissimilarity matrix\n",
    "print(\"Dissimilarity Matrix:\")\n",
    "print(dissimilarity_df)\n"
   ]
  }
 ],
 "metadata": {
  "kernelspec": {
   "display_name": "Python 3 (ipykernel)",
   "language": "python",
   "name": "python3"
  },
  "language_info": {
   "codemirror_mode": {
    "name": "ipython",
    "version": 3
   },
   "file_extension": ".py",
   "mimetype": "text/x-python",
   "name": "python",
   "nbconvert_exporter": "python",
   "pygments_lexer": "ipython3",
   "version": "3.9.13"
  }
 },
 "nbformat": 4,
 "nbformat_minor": 5
}
