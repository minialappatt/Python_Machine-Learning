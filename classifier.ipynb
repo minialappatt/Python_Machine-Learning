{
  "cells": [
    {
      "cell_type": "markdown",
      "source": [
        "## Step:1 Load the workspace configurations"
      ],
      "metadata": {
        "nteract": {
          "transient": {
            "deleting": false
          }
        }
      }
    },
    {
      "cell_type": "code",
      "source": [
        "from azureml.core import Workspace, Dataset, Experiment\n",
        "\n",
        "subscription_id = 'd0f7cb58-5c08-4ead-ac4c-29752d3ba0e1'\n",
        "resource_group = 'mlops-aug-batch'\n",
        "workspace_name = 'intellipat-mlops'\n",
        "\n",
        "workspace = Workspace(subscription_id, resource_group, workspace_name)"
      ],
      "outputs": [],
      "execution_count": 2,
      "metadata": {
        "gather": {
          "logged": 1692669359918
        }
      }
    },
    {
      "cell_type": "markdown",
      "source": [
        "## Step:2 Start with the experiment"
      ],
      "metadata": {
        "nteract": {
          "transient": {
            "deleting": false
          }
        }
      }
    },
    {
      "cell_type": "code",
      "source": [
        "experiment = Experiment(workspace=workspace, name=\"iris\")\n",
        "dataset = Dataset.get_by_name(workspace=workspace, name=\"Iris\")\n",
        "\n",
        "df = dataset.to_pandas_dataframe()\n",
        "df.head(4)"
      ],
      "outputs": [
        {
          "output_type": "execute_result",
          "execution_count": 4,
          "data": {
            "text/plain": "   Id  SepalLengthCm  SepalWidthCm  PetalLengthCm  PetalWidthCm      Species\n0   1            5.1           3.5            1.4           0.2  Iris-setosa\n1   2            4.9           3.0            1.4           0.2  Iris-setosa\n2   3            4.7           3.2            1.3           0.2  Iris-setosa\n3   4            4.6           3.1            1.5           0.2  Iris-setosa",
            "text/html": "<div>\n<style scoped>\n    .dataframe tbody tr th:only-of-type {\n        vertical-align: middle;\n    }\n\n    .dataframe tbody tr th {\n        vertical-align: top;\n    }\n\n    .dataframe thead th {\n        text-align: right;\n    }\n</style>\n<table border=\"1\" class=\"dataframe\">\n  <thead>\n    <tr style=\"text-align: right;\">\n      <th></th>\n      <th>Id</th>\n      <th>SepalLengthCm</th>\n      <th>SepalWidthCm</th>\n      <th>PetalLengthCm</th>\n      <th>PetalWidthCm</th>\n      <th>Species</th>\n    </tr>\n  </thead>\n  <tbody>\n    <tr>\n      <th>0</th>\n      <td>1</td>\n      <td>5.1</td>\n      <td>3.5</td>\n      <td>1.4</td>\n      <td>0.2</td>\n      <td>Iris-setosa</td>\n    </tr>\n    <tr>\n      <th>1</th>\n      <td>2</td>\n      <td>4.9</td>\n      <td>3.0</td>\n      <td>1.4</td>\n      <td>0.2</td>\n      <td>Iris-setosa</td>\n    </tr>\n    <tr>\n      <th>2</th>\n      <td>3</td>\n      <td>4.7</td>\n      <td>3.2</td>\n      <td>1.3</td>\n      <td>0.2</td>\n      <td>Iris-setosa</td>\n    </tr>\n    <tr>\n      <th>3</th>\n      <td>4</td>\n      <td>4.6</td>\n      <td>3.1</td>\n      <td>1.5</td>\n      <td>0.2</td>\n      <td>Iris-setosa</td>\n    </tr>\n  </tbody>\n</table>\n</div>"
          },
          "metadata": {}
        }
      ],
      "execution_count": 4,
      "metadata": {
        "jupyter": {
          "source_hidden": false,
          "outputs_hidden": false
        },
        "nteract": {
          "transient": {
            "deleting": false
          }
        },
        "gather": {
          "logged": 1692669824340
        }
      }
    },
    {
      "cell_type": "markdown",
      "source": [
        "## Step:3 Create a DT classifier"
      ],
      "metadata": {
        "nteract": {
          "transient": {
            "deleting": false
          }
        }
      }
    },
    {
      "cell_type": "code",
      "source": [
        "from sklearn.model_selection import train_test_split\n",
        "from sklearn.tree import DecisionTreeClassifier\n",
        "from sklearn.metrics import accuracy_score\n",
        "import joblib\n",
        "\n",
        "X = df[['SepalLengthCm','SepalWidthCm','PetalLengthCm','PetalWidthCm']]\n",
        "Y = df['Species']\n",
        "\n",
        "run = experiment.start_logging()\n",
        "\n",
        "X_train, X_test, y_train, y_test = train_test_split(X,Y, test_size= 0.40, shuffle=True)\n",
        "\n",
        "\n",
        "#step1: initialise the model class\n",
        "clf = DecisionTreeClassifier(criterion=\"gini\", max_depth=4)\n",
        "#step:2 train the model with training data\n",
        "clf.fit(X_train, y_train)\n",
        "\n",
        "#step-3 evaluate the model with testing data\n",
        "y_pred = clf.predict(X_test)\n",
        "accurcay = accuracy_score(y_test,y_pred)\n",
        "\n",
        "run.log(\"accuracy\",accurcay*100 )\n",
        "\n",
        "model_name =  \"iris_decision_tree.pkl\"\n",
        "filepath = \"outputs/\"+model_name\n",
        "\n",
        "joblib.dump(value= clf,filename=filepath)\n",
        "run.upload_file(name=model_name, path_or_stream=filepath)\n",
        "run.complete()"
      ],
      "outputs": [],
      "execution_count": 20,
      "metadata": {
        "jupyter": {
          "source_hidden": false,
          "outputs_hidden": false
        },
        "nteract": {
          "transient": {
            "deleting": false
          }
        },
        "gather": {
          "logged": 1692672708153
        }
      }
    },
    {
      "cell_type": "markdown",
      "source": [
        "### Step:4 Register the model"
      ],
      "metadata": {
        "nteract": {
          "transient": {
            "deleting": false
          }
        }
      }
    },
    {
      "cell_type": "code",
      "source": [
        "from azureml.core import Model\n",
        "from azureml.core.resource_configuration import ResourceConfiguration\n",
        "import sklearn"
      ],
      "outputs": [],
      "execution_count": 22,
      "metadata": {
        "jupyter": {
          "source_hidden": false,
          "outputs_hidden": false
        },
        "nteract": {
          "transient": {
            "deleting": false
          }
        },
        "gather": {
          "logged": 1692672979896
        }
      }
    },
    {
      "cell_type": "code",
      "source": [
        "model = Model.register(\n",
        "    workspace=workspace,\n",
        "    model_name = \"iris\",\n",
        "    model_path = filepath,\n",
        "    model_framework= Model.Framework.SCIKITLEARN,\n",
        "    model_framework_version= sklearn.__version__,\n",
        "    description= \"This is a sample DT classifier\",\n",
        "    resource_configuration= ResourceConfiguration(cpu=1, memory_in_gb= 0.5)\n",
        ")\n",
        "\n",
        "print(\"Name:\", model.name)\n",
        "print(\"version:\", model.version)"
      ],
      "outputs": [
        {
          "output_type": "stream",
          "name": "stdout",
          "text": "Registering model iris\nName: iris\nversion: 4\n"
        }
      ],
      "execution_count": 26,
      "metadata": {
        "jupyter": {
          "source_hidden": false,
          "outputs_hidden": false
        },
        "nteract": {
          "transient": {
            "deleting": false
          }
        },
        "gather": {
          "logged": 1692673092003
        }
      }
    },
    {
      "cell_type": "code",
      "source": [],
      "outputs": [],
      "execution_count": null,
      "metadata": {
        "jupyter": {
          "source_hidden": false,
          "outputs_hidden": false
        },
        "nteract": {
          "transient": {
            "deleting": false
          }
        }
      }
    }
  ],
  "metadata": {
    "kernelspec": {
      "name": "python310-sdkv2",
      "language": "python",
      "display_name": "Python 3.10 - SDK v2"
    },
    "language_info": {
      "name": "python",
      "version": "3.10.11",
      "mimetype": "text/x-python",
      "codemirror_mode": {
        "name": "ipython",
        "version": 3
      },
      "pygments_lexer": "ipython3",
      "nbconvert_exporter": "python",
      "file_extension": ".py"
    },
    "microsoft": {
      "ms_spell_check": {
        "ms_spell_check_language": "en"
      },
      "host": {
        "AzureML": {
          "notebookHasBeenCompleted": true
        }
      }
    },
    "kernel_info": {
      "name": "python310-sdkv2"
    },
    "nteract": {
      "version": "nteract-front-end@1.0.0"
    }
  },
  "nbformat": 4,
  "nbformat_minor": 2
}