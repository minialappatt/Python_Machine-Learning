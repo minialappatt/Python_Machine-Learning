{
 "cells": [
  {
   "cell_type": "code",
   "execution_count": 4,
   "id": "be10bbc4",
   "metadata": {},
   "outputs": [
    {
     "name": "stderr",
     "output_type": "stream",
     "text": [
      "'git' is not recognized as an internal or external command,\n",
      "operable program or batch file.\n"
     ]
    }
   ],
   "source": [
    "!git clone https://github.com/trainerajay/mlops1\n",
    "    "
   ]
  },
  {
   "cell_type": "code",
   "execution_count": null,
   "id": "fcdd6cf3",
   "metadata": {},
   "outputs": [],
   "source": [
    "import pandas as pd\n",
    "from sklearn.model_selection import train_test_split\n",
    "from sklearn.tree import DecisionTreeClassifier\n",
    "from sklearn.metrics import accuracy_score\n",
    "\n",
    "df = pd.read_csv(\"/content/mlops1/data/Iris.csv\")\n",
    "features = ['SepalLengthCm', 'SepalWidthCm', 'PetalLengthCm', 'PetalWidthCm']\n",
    "taget = 'Species'\n",
    "\n",
    "X_train, X_test, y_train, y_test = train_test_split(df[features],df[taget] , test_size=0.3, shuffle=True)\n",
    "#step-1: initialise the model class\n",
    "clf = DecisionTreeClassifier(criterion=\"entropy\") #Information gain as criteria\n",
    "#step-2: train the model on training set\n",
    "clf.fit(X_train,y_train)\n",
    "#step-3 evaluate the data on testing set\n",
    "y_pred = clf.predict(X_test)\n",
    "\n",
    "print(f\"Accuacy of the model is {accuracy_score(y_test,y_pred)*100}\") #--> this test accuracy\n"
   ]
  }
 ],
 "metadata": {
  "kernelspec": {
   "display_name": "Python 3 (ipykernel)",
   "language": "python",
   "name": "python3"
  },
  "language_info": {
   "codemirror_mode": {
    "name": "ipython",
    "version": 3
   },
   "file_extension": ".py",
   "mimetype": "text/x-python",
   "name": "python",
   "nbconvert_exporter": "python",
   "pygments_lexer": "ipython3",
   "version": "3.9.13"
  }
 },
 "nbformat": 4,
 "nbformat_minor": 5
}
