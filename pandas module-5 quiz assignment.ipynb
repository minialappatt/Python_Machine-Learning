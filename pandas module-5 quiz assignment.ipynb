{
 "cells": [
  {
   "cell_type": "code",
   "execution_count": 1,
   "id": "5899717c",
   "metadata": {},
   "outputs": [
    {
     "name": "stdout",
     "output_type": "stream",
     "text": [
      "           id             date   price  bedrooms  bathrooms  sqft_living  \\\n",
      "0  7129300520  20141013T000000  221900         3       1.00         1180   \n",
      "1  6414100192  20141209T000000  538000         3       2.25         2570   \n",
      "2  5631500400  20150225T000000  180000         2       1.00          770   \n",
      "3  2487200875  20141209T000000  604000         4       3.00         1960   \n",
      "4  1954400510  20150218T000000  510000         3       2.00         1680   \n",
      "\n",
      "   sqft_lot  floors  waterfront  view  ...  grade  sqft_above  sqft_basement  \\\n",
      "0      5650     1.0           0     0  ...      7        1180              0   \n",
      "1      7242     2.0           0     0  ...      7        2170            400   \n",
      "2     10000     1.0           0     0  ...      6         770              0   \n",
      "3      5000     1.0           0     0  ...      7        1050            910   \n",
      "4      8080     1.0           0     0  ...      8        1680              0   \n",
      "\n",
      "   yr_built  yr_renovated  zipcode      lat     long  sqft_living15  \\\n",
      "0      1955             0    98178  47.5112 -122.257           1340   \n",
      "1      1951          1991    98125  47.7210 -122.319           1690   \n",
      "2      1933             0    98028  47.7379 -122.233           2720   \n",
      "3      1965             0    98136  47.5208 -122.393           1360   \n",
      "4      1987             0    98074  47.6168 -122.045           1800   \n",
      "\n",
      "   sqft_lot15  \n",
      "0        5650  \n",
      "1        7639  \n",
      "2        8062  \n",
      "3        5000  \n",
      "4        7503  \n",
      "\n",
      "[5 rows x 21 columns]\n"
     ]
    }
   ],
   "source": [
    "import pandas as pd\n",
    "\n",
    "# Define the file path\n",
    "file_path = 'housing.csv'  # Change this to the path of your file\n",
    "\n",
    "# Read the data from the file into a Pandas DataFrame\n",
    "data = pd.read_csv(file_path)\n",
    "\n",
    "# Display the first few rows of the DataFrame\n",
    "print(data.head())\n"
   ]
  },
  {
   "cell_type": "code",
   "execution_count": 2,
   "id": "553ce39c",
   "metadata": {},
   "outputs": [
    {
     "name": "stdout",
     "output_type": "stream",
     "text": [
      "<class 'pandas.core.frame.DataFrame'>\n",
      "RangeIndex: 21613 entries, 0 to 21612\n",
      "Data columns (total 21 columns):\n",
      " #   Column         Non-Null Count  Dtype  \n",
      "---  ------         --------------  -----  \n",
      " 0   id             21613 non-null  int64  \n",
      " 1   date           21613 non-null  object \n",
      " 2   price          21613 non-null  int64  \n",
      " 3   bedrooms       21613 non-null  int64  \n",
      " 4   bathrooms      21613 non-null  float64\n",
      " 5   sqft_living    21613 non-null  int64  \n",
      " 6   sqft_lot       21613 non-null  int64  \n",
      " 7   floors         21613 non-null  float64\n",
      " 8   waterfront     21613 non-null  int64  \n",
      " 9   view           21613 non-null  int64  \n",
      " 10  condition      21613 non-null  int64  \n",
      " 11  grade          21613 non-null  int64  \n",
      " 12  sqft_above     21613 non-null  int64  \n",
      " 13  sqft_basement  21613 non-null  int64  \n",
      " 14  yr_built       21613 non-null  int64  \n",
      " 15  yr_renovated   21613 non-null  int64  \n",
      " 16  zipcode        21613 non-null  int64  \n",
      " 17  lat            21613 non-null  float64\n",
      " 18  long           21613 non-null  float64\n",
      " 19  sqft_living15  21613 non-null  int64  \n",
      " 20  sqft_lot15     21613 non-null  int64  \n",
      "dtypes: float64(4), int64(16), object(1)\n",
      "memory usage: 3.5+ MB\n",
      "None\n"
     ]
    }
   ],
   "source": [
    "print(data.info())\n"
   ]
  },
  {
   "cell_type": "code",
   "execution_count": 3,
   "id": "db5f86d0",
   "metadata": {},
   "outputs": [
    {
     "name": "stdout",
     "output_type": "stream",
     "text": [
      "0    21450\n",
      "1      163\n",
      "Name: waterfront, dtype: int64\n"
     ]
    }
   ],
   "source": [
    "# Count the occurrences of each unique value in the 'waterfront' column\n",
    "waterfront_counts = data['waterfront'].value_counts()\n",
    "\n",
    "# Print the counts\n",
    "print(waterfront_counts)"
   ]
  },
  {
   "cell_type": "code",
   "execution_count": 4,
   "id": "09692f9f",
   "metadata": {},
   "outputs": [
    {
     "name": "stdout",
     "output_type": "stream",
     "text": [
      "The costliest house is in zip code(s): [98102]\n"
     ]
    }
   ],
   "source": [
    "# Find the maximum price\n",
    "max_price = data['price'].max()\n",
    "\n",
    "# Find the row(s) with the maximum price\n",
    "max_price_row = data[data['price'] == max_price]\n",
    "\n",
    "# Get the zip code(s) for the house(s) with the maximum price\n",
    "max_price_zipcodes = max_price_row['zipcode'].unique()\n",
    "\n",
    "# Print the result\n",
    "print(\"The costliest house is in zip code(s):\", max_price_zipcodes)"
   ]
  },
  {
   "cell_type": "code",
   "execution_count": 7,
   "id": "8b58fd5b",
   "metadata": {},
   "outputs": [
    {
     "name": "stdout",
     "output_type": "stream",
     "text": [
      "Number of houses with grade 10: 1134\n"
     ]
    }
   ],
   "source": [
    "# Filter the DataFrame to include only houses with grade 10\n",
    "grade_10_houses = data[data['grade'] == 10]\n",
    "\n",
    "# Count the number of houses with grade 10\n",
    "num_grade_10_houses = grade_10_houses.shape[0]\n",
    "\n",
    "# Print the result\n",
    "print(\"Number of houses with grade 10:\", num_grade_10_houses)"
   ]
  },
  {
   "cell_type": "code",
   "execution_count": 8,
   "id": "e90a6884",
   "metadata": {},
   "outputs": [
    {
     "name": "stdout",
     "output_type": "stream",
     "text": [
      "Total number of null values in the dataset: 0\n"
     ]
    }
   ],
   "source": [
    "# Read the data from the file into a Pandas DataFrame\n",
    "data = pd.read_csv(file_path)\n",
    "\n",
    "# Count the number of null values in each column\n",
    "null_counts = data.isnull().sum()\n",
    "\n",
    "# Sum up the null values to get the total number of null values in the dataset\n",
    "total_null_values = null_counts.sum()\n",
    "\n",
    "# Print the result\n",
    "print(\"Total number of null values in the dataset:\", total_null_values)"
   ]
  },
  {
   "cell_type": "code",
   "execution_count": 9,
   "id": "145abd1f",
   "metadata": {},
   "outputs": [
    {
     "name": "stdout",
     "output_type": "stream",
     "text": [
      "Customer with ID 9126100861 does not have a waterfront property.\n"
     ]
    }
   ],
   "source": [
    "# Check if the customer with ID 9126100861 has a waterfront property\n",
    "customer_data = data[data['id'] == 9126100861]\n",
    "\n",
    "if not customer_data.empty:\n",
    "    has_waterfront = customer_data['waterfront'].iloc[0]\n",
    "    if has_waterfront == 1:\n",
    "        print(\"Customer with ID 9126100861 has a waterfront property.\")\n",
    "    else:\n",
    "        print(\"Customer with ID 9126100861 does not have a waterfront property.\")\n",
    "else:\n",
    "    print(\"Customer with ID 9126100861 not found in the dataset.\")"
   ]
  },
  {
   "cell_type": "code",
   "execution_count": 10,
   "id": "8b780dd8",
   "metadata": {},
   "outputs": [
    {
     "name": "stdout",
     "output_type": "stream",
     "text": [
      "Number of houses with 3 views: 510\n"
     ]
    }
   ],
   "source": [
    "# Filter the DataFrame to include only houses with 3 views\n",
    "houses_with_3_views = data[data['view'] == 3]\n",
    "\n",
    "# Count the number of houses with 3 views\n",
    "num_houses_with_3_views = houses_with_3_views.shape[0]\n",
    "\n",
    "# Print the result\n",
    "print(\"Number of houses with 3 views:\", num_houses_with_3_views)"
   ]
  },
  {
   "cell_type": "code",
   "execution_count": 11,
   "id": "3510713b",
   "metadata": {},
   "outputs": [
    {
     "name": "stdout",
     "output_type": "stream",
     "text": [
      "Lowest price of the house: 75000\n"
     ]
    }
   ],
   "source": [
    "# Find the lowest price\n",
    "lowest_price = data['price'].min()\n",
    "\n",
    "# Print the result\n",
    "print(\"Lowest price of the house:\", lowest_price)"
   ]
  },
  {
   "cell_type": "code",
   "execution_count": 12,
   "id": "725ffcfc",
   "metadata": {},
   "outputs": [
    {
     "name": "stdout",
     "output_type": "stream",
     "text": [
      "The cheapest house is in zip code(s): [98022]\n"
     ]
    }
   ],
   "source": [
    "# Find the minimum price\n",
    "min_price = data['price'].min()\n",
    "\n",
    "# Find the row(s) with the minimum price\n",
    "min_price_row = data[data['price'] == min_price]\n",
    "\n",
    "# Get the zip code(s) for the house(s) with the minimum price\n",
    "min_price_zipcodes = min_price_row['zipcode'].unique()\n",
    "\n",
    "# Print the result\n",
    "print(\"The cheapest house is in zip code(s):\", min_price_zipcodes)"
   ]
  },
  {
   "cell_type": "code",
   "execution_count": 13,
   "id": "7210c587",
   "metadata": {},
   "outputs": [
    {
     "name": "stdout",
     "output_type": "stream",
     "text": [
      "The area(s) with the biggest sqft_living: [98053]\n"
     ]
    }
   ],
   "source": [
    "\n",
    "# Find the maximum sqft_living\n",
    "max_sqft_living = data['sqft_living'].max()\n",
    "\n",
    "# Find the row(s) with the maximum sqft_living\n",
    "max_sqft_living_row = data[data['sqft_living'] == max_sqft_living]\n",
    "\n",
    "# Get the area(s) with the maximum sqft_living\n",
    "max_sqft_living_area = max_sqft_living_row['zipcode'].unique()\n",
    "\n",
    "# Print the result\n",
    "print(\"The area(s) with the biggest sqft_living:\", max_sqft_living_area)"
   ]
  },
  {
   "cell_type": "code",
   "execution_count": 14,
   "id": "01d0c32e",
   "metadata": {},
   "outputs": [
    {
     "name": "stdout",
     "output_type": "stream",
     "text": [
      "The costliest house(s) were built in year(s): [1910]\n"
     ]
    }
   ],
   "source": [
    "# Find the maximum price\n",
    "max_price = data['price'].max()\n",
    "\n",
    "# Find the row(s) with the maximum price\n",
    "max_price_row = data[data['price'] == max_price]\n",
    "\n",
    "# Get the year(s) when the costliest house(s) were built\n",
    "costliest_house_years = max_price_row['yr_built'].unique()\n",
    "\n",
    "# Print the result\n",
    "print(\"The costliest house(s) were built in year(s):\", costliest_house_years)"
   ]
  },
  {
   "cell_type": "code",
   "execution_count": 15,
   "id": "998a3c0a",
   "metadata": {},
   "outputs": [],
   "source": [
    "import pandas as pd\n",
    "\n",
    "# Creating a Series with specified data type\n",
    "s = pd.Series([1, 2, 3], dtype='float64')\n"
   ]
  },
  {
   "cell_type": "code",
   "execution_count": 17,
   "id": "1d1703c3",
   "metadata": {},
   "outputs": [
    {
     "data": {
      "text/plain": [
       "0    1\n",
       "1    2\n",
       "2    3\n",
       "3    4\n",
       "4    5\n",
       "dtype: int64"
      ]
     },
     "execution_count": 17,
     "metadata": {},
     "output_type": "execute_result"
    }
   ],
   "source": [
    "import pandas as pd\n",
    "\n",
    "# Creating a one-dimensional array (Pandas Series)\n",
    "s = pd.Series([1, 2, 3, 4, 5])\n",
    "s"
   ]
  },
  {
   "cell_type": "code",
   "execution_count": 18,
   "id": "27970250",
   "metadata": {},
   "outputs": [
    {
     "name": "stdout",
     "output_type": "stream",
     "text": [
      "0    10\n",
      "1    20\n",
      "2    30\n",
      "3    40\n",
      "4    50\n",
      "dtype: int64\n"
     ]
    }
   ],
   "source": [
    "import pandas as pd\n",
    "\n",
    "# Creating a Pandas Series\n",
    "s = pd.Series([10, 20, 30, 40, 50])\n",
    "\n",
    "# Printing the Series\n",
    "print(s)\n"
   ]
  },
  {
   "cell_type": "code",
   "execution_count": 20,
   "id": "c42b632a",
   "metadata": {},
   "outputs": [
    {
     "name": "stdout",
     "output_type": "stream",
     "text": [
      "           id             date   price  bedrooms  bathrooms  sqft_living  \\\n",
      "0  7129300520  20141013T000000  221900         3       1.00         1180   \n",
      "1  6414100192  20141209T000000  538000         3       2.25         2570   \n",
      "2  5631500400  20150225T000000  180000         2       1.00          770   \n",
      "3  2487200875  20141209T000000  604000         4       3.00         1960   \n",
      "4  1954400510  20150218T000000  510000         3       2.00         1680   \n",
      "\n",
      "   sqft_lot  floors  waterfront  view  ...  sqft_above  sqft_basement  \\\n",
      "0      5650     1.0           0     0  ...        1180              0   \n",
      "1      7242     2.0           0     0  ...        2170            400   \n",
      "2     10000     1.0           0     0  ...         770              0   \n",
      "3      5000     1.0           0     0  ...        1050            910   \n",
      "4      8080     1.0           0     0  ...        1680              0   \n",
      "\n",
      "   yr_built  yr_renovated  zipcode      lat     long  sqft_living15  \\\n",
      "0      1955             0    98178  47.5112 -122.257           1340   \n",
      "1      1951          1991    98125  47.7210 -122.319           1690   \n",
      "2      1933             0    98028  47.7379 -122.233           2720   \n",
      "3      1965             0    98136  47.5208 -122.393           1360   \n",
      "4      1987             0    98074  47.6168 -122.045           1800   \n",
      "\n",
      "   sqft_lot15  new_grade  \n",
      "0        5650          9  \n",
      "1        7639          9  \n",
      "2        8062          8  \n",
      "3        5000          9  \n",
      "4        7503         10  \n",
      "\n",
      "[5 rows x 22 columns]\n"
     ]
    }
   ],
   "source": [
    "import pandas as pd\n",
    "\n",
    "# Define the function to increase grade based on sqft\n",
    "def increase_grade(row):\n",
    "    if row['sqft_living'] > 0 and row['sqft_living'] <= 400:\n",
    "        return row['grade'] + 1\n",
    "    elif row['sqft_living'] > 400:\n",
    "        return row['grade'] + 2\n",
    "    else:\n",
    "        return row['grade']\n",
    "\n",
    "# Read the data from the file into a Pandas DataFrame\n",
    "#data = pd.read_csv('your_file_path_here.csv')  # Change this to the path of your file\n",
    "\n",
    "# Apply the function to each row of the DataFrame\n",
    "data['new_grade'] = data.apply(increase_grade, axis=1)\n",
    "\n",
    "# Print the DataFrame to see the result\n",
    "print(data.head())\n",
    "\n"
   ]
  },
  {
   "cell_type": "code",
   "execution_count": 23,
   "id": "bf6b3185",
   "metadata": {},
   "outputs": [
    {
     "name": "stdout",
     "output_type": "stream",
     "text": [
      "Correlation between sqft_living and sqft_above: 0.876596598681318\n"
     ]
    }
   ],
   "source": [
    "correlation = data['sqft_living'].corr(data['sqft_above'])\n",
    "print(\"Correlation between sqft_living and sqft_above:\", correlation)\n"
   ]
  },
  {
   "cell_type": "code",
   "execution_count": null,
   "id": "f2d31fee",
   "metadata": {},
   "outputs": [],
   "source": []
  }
 ],
 "metadata": {
  "kernelspec": {
   "display_name": "Python 3 (ipykernel)",
   "language": "python",
   "name": "python3"
  },
  "language_info": {
   "codemirror_mode": {
    "name": "ipython",
    "version": 3
   },
   "file_extension": ".py",
   "mimetype": "text/x-python",
   "name": "python",
   "nbconvert_exporter": "python",
   "pygments_lexer": "ipython3",
   "version": "3.9.13"
  }
 },
 "nbformat": 4,
 "nbformat_minor": 5
}
